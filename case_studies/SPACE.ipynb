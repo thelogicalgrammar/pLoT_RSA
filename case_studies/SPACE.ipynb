{
 "cells": [
  {
   "cell_type": "markdown",
   "id": "4683627e-0fed-4e9f-bc1f-9508e8da09c7",
   "metadata": {},
   "source": [
    "A pragmatic model of communication with conceptual spaces."
   ]
  },
  {
   "cell_type": "code",
   "execution_count": 1,
   "id": "6abbddb4-9656-415d-a565-bfd2e58df51c",
   "metadata": {},
   "outputs": [],
   "source": [
    "import z3"
   ]
  },
  {
   "cell_type": "code",
   "execution_count": 2,
   "id": "37faf3cf-13c2-4564-aa42-1be48ba69534",
   "metadata": {},
   "outputs": [
    {
     "name": "stdout",
     "output_type": "stream",
     "text": [
      "[x = S!val!0, f = [else -> S!val!0]]\n",
      "no solution\n"
     ]
    }
   ],
   "source": [
    "S = z3.DeclareSort('S')\n",
    "f = z3.Function('f', S, S)\n",
    "x = z3.Const('x', S)\n",
    "z3.solve(f(f(x)) == x, f(f(f(x))) == x)\n",
    "z3.solve(f(f(x)) == x, f(f(f(x))) == x, f(x) != x)"
   ]
  }
 ],
 "metadata": {
  "kernelspec": {
   "display_name": "pLoT_RSA",
   "language": "python",
   "name": "plot_rsa"
  },
  "language_info": {
   "codemirror_mode": {
    "name": "ipython",
    "version": 3
   },
   "file_extension": ".py",
   "mimetype": "text/x-python",
   "name": "python",
   "nbconvert_exporter": "python",
   "pygments_lexer": "ipython3",
   "version": "3.12.3"
  }
 },
 "nbformat": 4,
 "nbformat_minor": 5
}
