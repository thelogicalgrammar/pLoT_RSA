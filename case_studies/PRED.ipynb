{
 "cells": [
  {
   "cell_type": "code",
   "execution_count": 1,
   "id": "92418eb8-a48f-4284-991b-e2e3aa5ff1c1",
   "metadata": {},
   "outputs": [],
   "source": [
    "import z3\n",
    "import numpy as np\n",
    "from functools import cache\n",
    "from pprint import pprint\n",
    "%load_ext line_profiler\n",
    "\n",
    "from importlib import reload\n",
    "import matplotlib.pyplot as plt"
   ]
  },
  {
   "cell_type": "code",
   "execution_count": 2,
   "id": "98f914c7-a2d5-4373-ba46-3242a364dd3c",
   "metadata": {},
   "outputs": [
    {
     "data": {
      "text/plain": [
       "<module 'analysis' from '/mnt/c/Users/faust/OneDrive - UvA/research_projects/2024_pLoTRSA/pLOT_RSA/case_studies/../model/analysis.py'>"
      ]
     },
     "execution_count": 2,
     "metadata": {},
     "output_type": "execute_result"
    }
   ],
   "source": [
    "import sys\n",
    "sys.path.append('../')\n",
    "sys.path.append('../model/')\n",
    "\n",
    "import simulation\n",
    "import analysis\n",
    "reload(simulation)\n",
    "reload(analysis)"
   ]
  },
  {
   "cell_type": "code",
   "execution_count": 3,
   "id": "4e0ca675-5f63-4321-9449-6feb3cccb03a",
   "metadata": {},
   "outputs": [
    {
     "ename": "ImportError",
     "evalue": "cannot import name 'define_grammar' from 'simulation' (/mnt/c/Users/faust/OneDrive - UvA/research_projects/2024_pLoTRSA/pLOT_RSA/case_studies/../model/simulation.py)",
     "output_type": "error",
     "traceback": [
      "\u001b[0;31m---------------------------------------------------------------------------\u001b[0m",
      "\u001b[0;31mImportError\u001b[0m                               Traceback (most recent call last)",
      "Cell \u001b[0;32mIn[3], line 4\u001b[0m\n\u001b[1;32m      2\u001b[0m \u001b[38;5;28;01mfrom\u001b[39;00m \u001b[38;5;21;01mQUD\u001b[39;00m \u001b[38;5;28;01mimport\u001b[39;00m ProductQUD\n\u001b[1;32m      3\u001b[0m \u001b[38;5;28;01mfrom\u001b[39;00m \u001b[38;5;21;01manalysis\u001b[39;00m \u001b[38;5;28;01mimport\u001b[39;00m parse, already_defined, analyse_specific_hyps, plot_results\n\u001b[0;32m----> 4\u001b[0m \u001b[38;5;28;01mfrom\u001b[39;00m \u001b[38;5;21;01msimulation\u001b[39;00m \u001b[38;5;28;01mimport\u001b[39;00m infer_meaning, define_grammar\n",
      "\u001b[0;31mImportError\u001b[0m: cannot import name 'define_grammar' from 'simulation' (/mnt/c/Users/faust/OneDrive - UvA/research_projects/2024_pLoTRSA/pLOT_RSA/case_studies/../model/simulation.py)"
     ]
    }
   ],
   "source": [
    "from Models import ObjectsModel\n",
    "from QUD import ProductQUD\n",
    "from analysis import parse, already_defined, analyse_specific_hyps, plot_results\n",
    "from simulation import infer_meaning, define_grammar"
   ]
  },
  {
   "cell_type": "markdown",
   "id": "2a5987fc-6167-480a-a202-5907f22a4fa8",
   "metadata": {},
   "source": [
    "Some generally useful stuff that doesn't really change:"
   ]
  },
  {
   "cell_type": "code",
   "execution_count": 4,
   "id": "7b67ccc3-a7fd-4054-8e3d-63b811ed56d8",
   "metadata": {},
   "outputs": [
    {
     "ename": "NameError",
     "evalue": "name 'define_grammar' is not defined",
     "output_type": "error",
     "traceback": [
      "\u001b[0;31m---------------------------------------------------------------------------\u001b[0m",
      "\u001b[0;31mNameError\u001b[0m                                 Traceback (most recent call last)",
      "Cell \u001b[0;32mIn[4], line 3\u001b[0m\n\u001b[1;32m      1\u001b[0m n_objects \u001b[38;5;241m=\u001b[39m \u001b[38;5;241m5\u001b[39m\n\u001b[0;32m----> 3\u001b[0m grammar_phon \u001b[38;5;241m=\u001b[39m \u001b[43mdefine_grammar\u001b[49m(\n\u001b[1;32m      4\u001b[0m     n_props, \n\u001b[1;32m      5\u001b[0m     \u001b[38;5;28;01mFalse\u001b[39;00m\n\u001b[1;32m      6\u001b[0m )\n\u001b[1;32m      8\u001b[0m grammar_utt \u001b[38;5;241m=\u001b[39m define_grammar(\n\u001b[1;32m      9\u001b[0m     n_props, \n\u001b[1;32m     10\u001b[0m     \u001b[38;5;28;01mTrue\u001b[39;00m\n\u001b[1;32m     11\u001b[0m )\n\u001b[1;32m     13\u001b[0m grammar_belief \u001b[38;5;241m=\u001b[39m define_grammar(\n\u001b[1;32m     14\u001b[0m     n_props\u001b[38;5;241m=\u001b[39mn_props, \n\u001b[1;32m     15\u001b[0m     EXH\u001b[38;5;241m=\u001b[39m\u001b[38;5;28;01mFalse\u001b[39;00m, \n\u001b[1;32m     16\u001b[0m     index\u001b[38;5;241m=\u001b[39m\u001b[38;5;241m2\u001b[39m\n\u001b[1;32m     17\u001b[0m )\n",
      "\u001b[0;31mNameError\u001b[0m: name 'define_grammar' is not defined"
     ]
    }
   ],
   "source": [
    "n_objects = 5\n",
    "\n",
    "grammar_phon = define_grammar(\n",
    "    n_props, \n",
    "    False\n",
    ")\n",
    "\n",
    "grammar_utt = define_grammar(\n",
    "    n_props, \n",
    "    True\n",
    ")\n",
    "\n",
    "grammar_belief = define_grammar(\n",
    "    n_props=n_props, \n",
    "    EXH=False, \n",
    "    index=2\n",
    ")\n",
    "\n",
    "m = BooleanModel(\n",
    "    n_props\n",
    ")"
   ]
  },
  {
   "cell_type": "markdown",
   "id": "cfd0dd95-a7ee-42e6-9aa4-0843d703f0e6",
   "metadata": {},
   "source": [
    "# Pseudo-quantifiers attempt"
   ]
  },
  {
   "cell_type": "code",
   "execution_count": 5,
   "id": "2cf7dfea-b2bf-470d-8845-50d6e0d8a22e",
   "metadata": {},
   "outputs": [],
   "source": [
    "def trees_seen_by(s):\n",
    "    \"\"\"\n",
    "    Returns a Z3 expression for the number of trees that squirrel s sees.\n",
    "    \"\"\"\n",
    "    return z3.Sum([z3.If(sees(s, t), 1, 0) for t in dom_trees])\n",
    "\n",
    "def partition_function(i):\n",
    "    \"\"\"\n",
    "    Returns a Z3 expression that encodes the number of squirrels that see exactly i trees.\n",
    "    \n",
    "    That is, for a given integer i (0 <= i <= k_trees), partition_function(i) is\n",
    "    the sum over all squirrels s in dom_squirrels of 1 if trees_seen_by(s) == i, and 0 otherwise.\n",
    "    \"\"\"\n",
    "    return z3.Sum([z3.If(trees_seen_by(s) == i, 1, 0) for s in dom_squirrels])"
   ]
  },
  {
   "cell_type": "code",
   "execution_count": 6,
   "id": "f54965a1-c17e-4766-a1b6-adab48fa5cd1",
   "metadata": {},
   "outputs": [],
   "source": [
    "def Some(domain, predicate):\n",
    "    \"\"\"\n",
    "    Given a list of domain elements and a predicate function (that takes an element and returns a Bool),\n",
    "    return a Z3 formula that is the disjunction over the domain.\n",
    "    \"\"\"\n",
    "    return z3.Or([predicate(x) for x in domain])\n",
    "\n",
    "def All(domain, predicate):\n",
    "    \"\"\"\n",
    "    Given a list of domain elements and a predicate function,\n",
    "    return a Z3 formula that is the conjunction over the domain.\n",
    "    \"\"\"\n",
    "    return z3.And([predicate(x) for x in domain])"
   ]
  },
  {
   "cell_type": "markdown",
   "id": "917e57ff-6c97-4407-9c3e-2ce356428171",
   "metadata": {},
   "source": [
    "// type <et,<et,t>>\n",
    "some(\n",
    "    // type <e,t>\n",
    "    squirrels, \n",
    "    // type <e,t>\n",
    "    run\n",
    ")\n",
    "\n",
    "\n",
    "all(\n",
    "    // \n",
    "    squirrels,\n",
    "    // <t>\n",
    "    // but the x1 argument of 'all' abstracts it to <e,t>\n",
    "    some(\n",
    "        // <e,t>\n",
    "        trees,\n",
    "        // <e,t>\n",
    "        see(x1)\n",
    "    ),\n",
    "    x1\n",
    ")\n",
    "\n",
    "some(\n",
    "    trees,\n",
    "    all(\n",
    "        squirrels,\n",
    "        see(x1)(x2),\n",
    "        x1\n",
    "    ),\n",
    "    x2\n",
    ")"
   ]
  },
  {
   "cell_type": "code",
   "execution_count": 30,
   "id": "1ca1e7d8-f271-4dbd-8a34-94898ca51a51",
   "metadata": {},
   "outputs": [],
   "source": [
    "Squirrel = z3.DeclareSort('squirrels')\n",
    "Tree = z3.DeclareSort('trees')\n",
    "k_squirrels = 5\n",
    "k_trees = 5\n",
    "\n",
    "# list of constants representing the domain elements of types\n",
    "dom_squirrels = [z3.Const(f's_{i}', Squirrel) for i in range(k_squirrels)] \n",
    "dom_trees = [z3.Const(f't_{i}', Tree) for i in range(k_trees)] \n",
    "\n",
    "# Define P as a predicate over T.\n",
    "sees = z3.Function(f'sees', Squirrel, Tree, z3.BoolSort())"
   ]
  },
  {
   "cell_type": "code",
   "execution_count": 45,
   "id": "e401d0c7-9264-4877-a040-e69d3fadb0a3",
   "metadata": {},
   "outputs": [
    {
     "name": "stdout",
     "output_type": "stream",
     "text": [
      "[s_2 = squirrels!val!2,\n",
      " s_1 = squirrels!val!1,\n",
      " t_3 = trees!val!3,\n",
      " t_1 = trees!val!1,\n",
      " s_0 = squirrels!val!0,\n",
      " t_4 = trees!val!4,\n",
      " t_0 = trees!val!0,\n",
      " s_3 = squirrels!val!3,\n",
      " t_2 = trees!val!2,\n",
      " s_4 = squirrels!val!4,\n",
      " sees = [(squirrels!val!0, trees!val!1) -> True,\n",
      "         (squirrels!val!1, trees!val!1) -> True,\n",
      "         (squirrels!val!2, trees!val!1) -> True,\n",
      "         (squirrels!val!3, trees!val!1) -> True,\n",
      "         (squirrels!val!4, trees!val!1) -> True,\n",
      "         else -> False]]\n"
     ]
    }
   ],
   "source": [
    "solver = z3.Solver()\n",
    "\n",
    "# example of a formula\n",
    "formula = Some(dom_trees, lambda t: All(dom_squirrels, lambda s: sees(s, t)))\n",
    "\n",
    "solver.add(formula)\n",
    "\n",
    "# Check and print the model:\n",
    "if solver.check() == z3.sat:\n",
    "    model = solver.model()\n",
    "    print(model)\n",
    "else:\n",
    "    print(\"Unsatisfiable\")"
   ]
  },
  {
   "cell_type": "markdown",
   "id": "9cf2f7cc-c0c8-4d59-93c9-7dc6bf680ff2",
   "metadata": {},
   "source": [
    "Grammar:\n",
    "\n",
    "S -> Some(DOM, F )\n",
    "S -> All( DOM, F )"
   ]
  },
  {
   "cell_type": "code",
   "execution_count": 9,
   "id": "ae1e7a6e-e936-4e4d-9b84-2f7168034f15",
   "metadata": {},
   "outputs": [
    {
     "data": {
      "text/html": [
       "sees(s_0, t_0)"
      ],
      "text/plain": [
       "sees(s_0, t_0)"
      ]
     },
     "execution_count": 9,
     "metadata": {},
     "output_type": "execute_result"
    }
   ],
   "source": [
    "sees(dom_squirrels[0], dom_trees[0])"
   ]
  },
  {
   "cell_type": "code",
   "execution_count": null,
   "id": "c0c267a4-64fa-4e0d-91de-4bb65965ae6b",
   "metadata": {},
   "outputs": [],
   "source": []
  },
  {
   "cell_type": "code",
   "execution_count": null,
   "id": "851e8999-3d5d-4bce-bc14-a39809110480",
   "metadata": {},
   "outputs": [],
   "source": [
    "# Define an expression counting how many elements satisfy each predicate.\n",
    "count_Ps = Sum([If(P(x), 1, 0) for x in dom])\n",
    "\n",
    "# Express \"most\" as:\n",
    "# count_P > len(dom)/2  where len(dom) is k.\n",
    "solver = Solver()\n",
    "solver.add(count_P > k / 2)"
   ]
  },
  {
   "cell_type": "code",
   "execution_count": null,
   "id": "1f916d26-b2c0-4988-8d99-20c15e9adb5b",
   "metadata": {},
   "outputs": [],
   "source": []
  },
  {
   "cell_type": "code",
   "execution_count": null,
   "id": "c1c7b017-5406-4ee3-b1d3-718876d5fbdf",
   "metadata": {},
   "outputs": [],
   "source": []
  },
  {
   "cell_type": "code",
   "execution_count": null,
   "id": "01c84a3e-f967-4f28-adaf-13fcd836ffa3",
   "metadata": {},
   "outputs": [],
   "source": []
  },
  {
   "cell_type": "code",
   "execution_count": 10,
   "id": "0112ad98-6427-45b0-90e0-b947e3f68f6d",
   "metadata": {},
   "outputs": [
    {
     "name": "stdout",
     "output_type": "stream",
     "text": [
      "Solver result: unsat\n"
     ]
    }
   ],
   "source": [
    "# Declare a generic (uninterpreted) sort A.\n",
    "A = z3.DeclareSort('A')\n",
    "\n",
    "# Declare a binary predicate R on A: R: A x A -> Bool.\n",
    "R = z3.Function('R', A, A, z3.BoolSort())\n",
    "\n",
    "# Declare variables over A.\n",
    "x, y, z = z3.Consts('x y z', A)\n",
    "\n",
    "# Axioms: Assume that R is reflexive and transitive.\n",
    "reflex_axiom = z3.ForAll(x, R(x, x))\n",
    "trans_axiom = z3.ForAll([x, y, z], z3.Implies(z3.And(R(x, y), R(y, z)), R(x, z)))\n",
    "\n",
    "# Our formula:\n",
    "# For every x, there exists a y such that for every z, if R(x,z) then R(y,z).\n",
    "formula = z3.ForAll(x, z3.Exists(y, z3.ForAll(z, z3.Implies(R(x, z), R(y, z)))))\n",
    "\n",
    "# Create a solver and add the axioms and the negation of the formula.\n",
    "s = z3.Solver()\n",
    "s.add(reflex_axiom, trans_axiom, z3.Not(formula))\n",
    "\n",
    "# Check for unsatisfiability.\n",
    "result = s.check()\n",
    "print(\"Solver result:\", result)"
   ]
  },
  {
   "cell_type": "code",
   "execution_count": 123,
   "id": "3dbcbf39-703c-418f-97b0-309a7ba4e2c0",
   "metadata": {},
   "outputs": [
    {
     "data": {
      "image/png": "[encoded data removed]",
      "text/plain": [
       "<Figure size 1000x400 with 1 Axes>"
      ]
     },
     "metadata": {},
     "output_type": "display_data"
    }
   ],
   "source": [
    "import matplotlib as mpl\n",
    "mpl.rcParams['text.usetex'] = True\n",
    "mpl.rcParams['text.latex.preamble'] = r'\\usepackage{amsmath}'\n",
    "\n",
    "import matplotlib.pyplot as plt\n",
    "\n",
    "# Create figure and axis\n",
    "fig, ax = plt.subplots(figsize=(10, 4))\n",
    "\n",
    "# Set limits and remove axes\n",
    "ax.set_xlim(0, 10)\n",
    "ax.set_ylim(0, 1.4)\n",
    "ax.axis('off')\n",
    "\n",
    "# Define y-levels for layers\n",
    "top_y = 1.2\n",
    "mid_y = 0.8\n",
    "bottom_y = 0.4\n",
    "\n",
    "# Draw dotted lines to separate layers\n",
    "top_dotted = top_y - 0.1\n",
    "bottom_dotted = mid_y - 0.1\n",
    "ax.hlines([top_dotted, bottom_dotted], xmin=0.5, xmax=9.5, colors='gray', linestyles='dotted')\n",
    "\n",
    "# Annotate dotted lines\n",
    "ax.text(9.5, top_dotted + 0.1, \"Generate possible parses with Exh\\n+ structural alternatives\\n+ innocent exclusion\", \n",
    "        va='center', ha='right', fontsize=10)\n",
    "ax.text(9.5, bottom_dotted - 0.05, \"Select plausible parse(s) with RSA\", \n",
    "        va='center', ha='right', fontsize=10)\n",
    "\n",
    "# Top layer sentence\n",
    "top_x = 5\n",
    "ax.text(top_x, top_y + 0.1, r'$p \\lor q$', ha='center', va='center', fontsize=14)\n",
    "\n",
    "# Mid layer sentences\n",
    "mid_sentences = [\n",
    "    r'$\\text{exh}(p \\lor q)$',\n",
    "    r'$\\text{exh}(p) \\lor q$',\n",
    "    r'$p \\lor \\text{exh}(q)$',\n",
    "    r'$\\text{exh}(\\text{exh}(p) \\lor q)$',\n",
    "    r'$\\text{exh}(p \\lor \\text{exh}(q))$',\n",
    "    r'...'\n",
    "]\n",
    "x_positions = [1.5 + 1.5 * i for i in range(len(mid_sentences))]  # spread across the plot\n",
    "\n",
    "for x, sentence in zip(x_positions, mid_sentences):\n",
    "    ax.text(x, mid_y + 0.1, sentence, ha='center', va='center', fontsize=14)\n",
    "    # Arrow from top to mid\n",
    "    ax.annotate('', xy=(x, mid_y + 0.15), xytext=(top_x, top_y+0.05),\n",
    "                arrowprops=dict(arrowstyle='->', color='gray', lw=1))\n",
    "\n",
    "# Bottom layer sentence\n",
    "bottom_x = 5\n",
    "ax.text(bottom_x, bottom_y + 0.1, r'$\\text{exh}(p \\lor q)$', ha='center', va='center', fontsize=14)\n",
    "\n",
    "# Arrows from mid to bottom\n",
    "for x in x_positions:\n",
    "    ax.annotate('', xy=(bottom_x, bottom_y + 0.15), xytext=(x, mid_y+0.05),\n",
    "                arrowprops=dict(arrowstyle='->', color='gray', lw=1))\n",
    "\n",
    "plt.tight_layout()\n",
    "plt.savefig('fig.png', dpi=300)\n"
   ]
  }
 ],
 "metadata": {
  "kernelspec": {
   "display_name": "pLoT_RSA",
   "language": "python",
   "name": "plot_rsa"
  },
  "language_info": {
   "codemirror_mode": {
    "name": "ipython",
    "version": 3
   },
   "file_extension": ".py",
   "mimetype": "text/x-python",
   "name": "python",
   "nbconvert_exporter": "python",
   "pygments_lexer": "ipython3",
   "version": "3.12.3"
  }
 },
 "nbformat": 4,
 "nbformat_minor": 5
}
