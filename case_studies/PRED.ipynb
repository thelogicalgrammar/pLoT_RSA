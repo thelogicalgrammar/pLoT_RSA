{
 "cells": [
  {
   "cell_type": "code",
   "execution_count": 2,
   "id": "92418eb8-a48f-4284-991b-e2e3aa5ff1c1",
   "metadata": {},
   "outputs": [],
   "source": [
    "import z3\n",
    "import numpy as np\n",
    "from functools import cache\n",
    "from pprint import pprint\n",
    "%load_ext line_profiler\n",
    "\n",
    "from importlib import reload\n",
    "import matplotlib.pyplot as plt"
   ]
  },
  {
   "cell_type": "code",
   "execution_count": 3,
   "id": "98f914c7-a2d5-4373-ba46-3242a364dd3c",
   "metadata": {},
   "outputs": [
    {
     "data": {
      "text/plain": [
       "<module 'analysis' from '/mnt/c/Users/faust/OneDrive - UvA/research_projects/2024_pLoTRSA/pLOT_RSA/case_studies/../model/analysis.py'>"
      ]
     },
     "execution_count": 3,
     "metadata": {},
     "output_type": "execute_result"
    }
   ],
   "source": [
    "import sys\n",
    "sys.path.append('../')\n",
    "sys.path.append('../model/')\n",
    "\n",
    "import simulation\n",
    "import analysis\n",
    "reload(simulation)\n",
    "reload(analysis)"
   ]
  },
  {
   "cell_type": "code",
   "execution_count": 4,
   "id": "4e0ca675-5f63-4321-9449-6feb3cccb03a",
   "metadata": {},
   "outputs": [],
   "source": [
    "from Models import ObjectsModel\n",
    "from QUD import ProductQUD\n",
    "from analysis import parse, already_defined, analyse_specific_hyps, plot_results\n",
    "from simulation import infer_meaning, define_grammar"
   ]
  },
  {
   "cell_type": "markdown",
   "id": "2a5987fc-6167-480a-a202-5907f22a4fa8",
   "metadata": {},
   "source": [
    "Some generally useful stuff that doesn't really change:"
   ]
  },
  {
   "cell_type": "code",
   "execution_count": 9,
   "id": "7b67ccc3-a7fd-4054-8e3d-63b811ed56d8",
   "metadata": {},
   "outputs": [],
   "source": [
    "n_objects = 5\n",
    "\n",
    "grammar_phon = define_grammar(\n",
    "    n_props, \n",
    "    False\n",
    ")\n",
    "\n",
    "grammar_utt = define_grammar(\n",
    "    n_props, \n",
    "    True\n",
    ")\n",
    "\n",
    "grammar_belief = define_grammar(\n",
    "    n_props=n_props, \n",
    "    EXH=False, \n",
    "    index=2\n",
    ")\n",
    "\n",
    "m = BooleanModel(\n",
    "    n_props\n",
    ")"
   ]
  }
 ],
 "metadata": {
  "kernelspec": {
   "display_name": "pLoT_RSA",
   "language": "python",
   "name": "plot_rsa"
  },
  "language_info": {
   "codemirror_mode": {
    "name": "ipython",
    "version": 3
   },
   "file_extension": ".py",
   "mimetype": "text/x-python",
   "name": "python",
   "nbconvert_exporter": "python",
   "pygments_lexer": "ipython3",
   "version": "3.12.3"
  }
 },
 "nbformat": 4,
 "nbformat_minor": 5
}
