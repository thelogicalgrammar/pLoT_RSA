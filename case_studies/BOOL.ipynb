{
 "cells": [
  {
   "cell_type": "code",
   "execution_count": 1,
   "id": "6056b24a-6bb4-420a-a58a-82e5b59f46df",
   "metadata": {},
   "outputs": [],
   "source": [
    "import z3\n",
    "import numpy as np\n",
    "from functools import cache\n",
    "from pprint import pprint\n",
    "%load_ext line_profiler\n",
    "\n",
    "from importlib import reload\n",
    "import matplotlib.pyplot as plt"
   ]
  },
  {
   "cell_type": "code",
   "execution_count": 2,
   "id": "ff9bd6b8-18b2-46ce-a50b-f8dcfe5a006b",
   "metadata": {},
   "outputs": [
    {
     "data": {
      "text/plain": [
       "<module 'grammar' from '/mnt/c/Users/faust/OneDrive - UvA/research_projects/2024_pLoTRSA/pLOT_RSA/case_studies/../model/grammar.py'>"
      ]
     },
     "execution_count": 2,
     "metadata": {},
     "output_type": "execute_result"
    }
   ],
   "source": [
    "import sys\n",
    "sys.path.append('../')\n",
    "sys.path.append('../model/')\n",
    "\n",
    "import simulation\n",
    "import analysis\n",
    "import grammar\n",
    "reload(simulation)\n",
    "reload(analysis)\n",
    "reload(grammar)"
   ]
  },
  {
   "cell_type": "code",
   "execution_count": 3,
   "id": "55a1ea6c-4ea2-47ac-b42f-6d1f5ac5aeb7",
   "metadata": {},
   "outputs": [],
   "source": [
    "from Models import BooleanModel\n",
    "from QUD import ProductQUD\n",
    "from analysis import parse, already_defined, analyse_specific_hyps, plot_results\n",
    "from simulation import infer_meaning\n",
    "from grammar import define_grammar\n",
    "from utilities import (               \n",
    "    find_phonform_possible_structures,\n",
    "    print_possible_utterances         \n",
    ")"
   ]
  },
  {
   "cell_type": "markdown",
   "id": "e8bbe8f5-ad4f-4bb1-9ac6-04830139ebac",
   "metadata": {},
   "source": [
    "Some generally useful stuff that doesn't really change:"
   ]
  },
  {
   "cell_type": "code",
   "execution_count": 4,
   "id": "1be70a16-2aad-46aa-84b4-c93efc4c41c9",
   "metadata": {},
   "outputs": [],
   "source": [
    "n_props = 2\n",
    "\n",
    "solver = z3.Solver()\n",
    "\n",
    "grammar_phon = define_grammar(\n",
    "    n_props, \n",
    "    False\n",
    ")\n",
    "\n",
    "grammar_utt = define_grammar(\n",
    "    n_props, \n",
    "    True\n",
    ")\n",
    "\n",
    "m = BooleanModel(\n",
    "    n_props\n",
    ")"
   ]
  },
  {
   "cell_type": "code",
   "execution_count": 17,
   "id": "a22d6bbb-f0b9-4975-a251-00728ed47d9d",
   "metadata": {},
   "outputs": [],
   "source": [
    "def run_boolean_simulation(s, prob_knows, likelihood_temperature=0.1, prior_temperature=6, n_steps=1e4):\n",
    "    \n",
    "    qud = ProductQUD(\n",
    "        *m.terms, \n",
    "        solver=solver, \n",
    "        prob_knows=prob_knows\n",
    "    )\n",
    "    \n",
    "    phonform = parse(s, grammar_phon)\n",
    "    \n",
    "    print(phonform)\n",
    "\n",
    "    possible_meanings, utterances_values = find_phonform_possible_structures(\n",
    "        phonform=phonform,                                                   \n",
    "        grammar=grammar_utt,                                                 \n",
    "        qud=qud,                                                             \n",
    "        model=m,                                                         \n",
    "        solver=solver,                                                       \n",
    "        unique=True                                                          \n",
    "    )      \n",
    "                                                                             \n",
    "    print_possible_utterances(                                               \n",
    "        utterances_values=utterances_values,                                                   \n",
    "        possible_meanings=possible_meanings,                                                   \n",
    "        n_props=n_props,                                                             \n",
    "        solver=solver                                                               \n",
    "    )         \n",
    "    \n",
    "    grammar_belief = define_grammar(\n",
    "        n_props=n_props, \n",
    "        EXH=False, \n",
    "        index=len(utterances_values)\n",
    "    )\n",
    "    \n",
    "    tn = infer_meaning(\n",
    "        qud=qud,\n",
    "        model=m,\n",
    "        solver=solver,\n",
    "        grammar_belief=grammar_belief,\n",
    "        possible_meanings=possible_meanings,\n",
    "        likelihood_temperature=likelihood_temperature,\n",
    "        prior_temperature=prior_temperature,\n",
    "        n_steps=n_steps\n",
    "    )\n",
    "    \n",
    "    plot_results(\n",
    "        tn,\n",
    "        solver\n",
    "    )"
   ]
  },
  {
   "cell_type": "markdown",
   "id": "1d95ab55-dd96-4ca9-a2a5-5a4a8c269074",
   "metadata": {},
   "source": [
    "# Model description (OLD, should update!)"
   ]
  },
  {
   "cell_type": "markdown",
   "id": "978b531d-d7ce-4564-bebd-cd4fa778a574",
   "metadata": {},
   "source": [
    "The listener computes a joint distribution over QUD-relevant belief states $o$ and possible utterances $u$ given the phonological form $\\phi$ (a (partial) answer to the QUD can in principle be inferred from the utterance). We assume a silent EXH operator that does not show in $\\phi$ but might be part of $u$. Call $\\forall_{EXH}(\\phi)$ the set of all utterances compatible with $\\phi$.\n",
    "\\begin{align}\n",
    "P_{L1}(o \\mid \\phi)\n",
    "&= \\sum_{u \\in UTT} P_{L1}(o, u \\mid \\phi) \\\\\n",
    "&= \\sum_{u \\in UTT} P_{L1}(u \\mid \\phi)P_{L1}(o \\mid u, \\phi) \\\\\n",
    "&= \\frac{1}{|\\forall_{EXH}(\\phi)|} \\sum_{u \\in \\forall_{EXH}(\\phi)} P_{L1}(o \\mid u, \\phi) & P_{L1}(u \\mid \\phi) \\text{ has uniform prob among compatible \\& 0 otherwise} \\\\\n",
    "&= \\frac{1}{|\\forall_{EXH}(\\phi)|} \\sum_{u \\in \\forall_{EXH}(\\phi)} P_{L1}(o \\mid u ) & \\text{since $o$ is independent of $\\phi$ given $u$} \n",
    "\\end{align}\n",
    "\n",
    "At this point we need a way of computing $P_{L1}(o \\mid u)$: how probable for the listener is meaning $o$ given utterance $u$? There are many solutions, but here are two:\n",
    "1. Assume an $S_0$ that samples an utterance uniformly from utterances compatible with the meaning.\n",
    "2. Assume that the speaker tends to produce an utterance that is more relevant given the QUD. The possible utterances here are the possible parses of the phonological form (given by the various ways of inserting EXH):\n",
    "\n",
    "\\begin{align}\n",
    "&= \\frac{1}{|\\forall_{EXH}(\\phi)|} \\sum_{u \\in \\forall_{EXH}(\\phi)} P_{S1}( [\\![ u ]\\!] \\mid o) P_{L1}(o) K & \\text{Bayes' theorem.}\n",
    "\\end{align}\n",
    "\n",
    "Some points:\n",
    "- Sample $o$ w/ LOTlib, check with z3 that $o$ is consistent with $u$ (else return -inf), and if so calculate the actual quantities.\n",
    "- This assumes DAG $o \\rightarrow u \\rightarrow \\phi$, but in future the communicative intention $i$ could be added ($o \\rightarrow i \\rightarrow u \\rightarrow \\phi$), which can depend on the speaker's goals independently of the QUD."
   ]
  },
  {
   "cell_type": "markdown",
   "id": "19711202-15eb-40dd-8f82-2b36200f5d25",
   "metadata": {},
   "source": [
    "At this point we have three components to unpack:\n",
    "- $\\forall_{EXH}(\\phi)$\n",
    "  - The set of utterances compatible with the given phonological form.\n",
    "- $P_{S1}([\\![ u ]\\!] \\mid o) \\propto \\texttt{softmax}_\\lambda -\\text{KL}\\left( P_{S1}( A \\mid o) ||  P_{L0}( A \\mid u) \\right)$\n",
    "    - The (normalized) probability that the speaker will choose an utterance given an observation.\n",
    "    - The speaker's goal is to answer the QUD as well as possible, and this is of course a function of the meaning of the utterance.\n",
    "    - $A$ is the random variable \"Answer to the QUD\"\n",
    "    - Calculating $P_{S1}( A \\mid o)$:\n",
    "        - The probability of each answer is proportional to the number of models compatible with $o$ that belong to that answer.\n",
    "    - Calculating $P_{L0}( A | u )) $:\n",
    "        - In theory, the normalization constant of $P_{L0}(A \\mid u)$ is a sum over observations\n",
    "        - However, since there can be infinitely many possible observations in practice I assume that the literal listener uses an approximation:\n",
    "        - First, we approximate for each answer $a \\in A$ how many models are compatible with $a$. For every answer $a$ sample observations that the meaning is compatible with, up to a MAX, e.g., 10. Call this number $\\#_a$. This defines a distribution over answers to the QUD given $o$. Since the QUD partitions the possibilities, a singleton $o$ must provide a single answer, but an $o$ with multiple possible worlds (representing uncertainty) could be compatible with multiple answers.\n",
    "            - If the QUD is yes/no, we recover a discrete approximation of usual RSA $L0$.\n",
    "            - This means that the speaker only keeps track of a few observations for each answers to the QUD.\n",
    "        - Compute a discrete approximation to KL divergence.\n",
    "        - NOTE: Not adding a cost for conceptual complexity yet, but it would relate to the discussion of conceptual complexity by Buccola.\n",
    "        - The consequence of this term is that listeners will tend to guess an observations fits closely to the meaning. So for instance meaning \"a\" (compatible with $b$ and $\\neg b$)\n",
    "- $P_{L1}(o)$\n",
    "    - The probability of the observation. This is just the prior as induced by the pLoT - dealt with by LOTlib3 (but need to redefine the `prior` function otherwise it'll also include complexity of $m$!)\n",
    " \n",
    "Various to note:\n",
    "- I assume there's an underlying QUD. The agents have some prior distribution over the answers to the QUD, which depends on their world model.\n",
    "    - The QUD is modelled as a list of z3 objects, one for each answer to the QUD. For instance the QUD \"Who is P?\" is represented as: `[ And([P(a),P(b)]), P(a), P(b) ]`\n",
    "    - This is one way to model a partition of the possible worlds."
   ]
  },
  {
   "cell_type": "markdown",
   "id": "4c4435ea-def1-4688-a6f1-9621ec2ec702",
   "metadata": {},
   "source": [
    "This is a model of the interplay of three mechanisms:\n",
    "- The QUD\n",
    "- (Unknown) The position of EXH operator\n",
    "- (Unknown) The speaker's knowledge state"
   ]
  },
  {
   "cell_type": "markdown",
   "id": "93b82fd0-3df6-4cf9-9ce3-f5860461b5ca",
   "metadata": {},
   "source": [
    "Examples to explain:\n",
    "- \"p\" -> \"p and not q\" w/ QUD=\"What is true?\" w/ the speaker probably knowing whether p and q\n",
    "- \"Not _p_\" -> \"not p or q\" w/ QUD=\"what is true?\" \n",
    "- \"John talked to Mary or Sue\" -> not both (Fox and Spector 2019)\n",
    "- Suppose that the speaker \n",
    "\n",
    "\n",
    "\n",
    "- \"Some boys came\" -> not all (Fox and Spector 2019)\n",
    "- \"John didn't do the reading OR the homework, he did both\" -> not a contradiction! (Fox and Spector 2019)\n",
    "- \"John talked to Mary, or to both Mary and Sue\" -> not equivalent to just \"Mary\" (Trinh 2019)\n",
    "- Contextual scales:\n",
    "    - a. A: Do you speak Portuguese? B: My husband's brother does. implicature: B/her husband does not speak Portuguese.\n",
    "    - (https://www.tandfonline.com/doi/full/10.1080/0163853X.2017.1316038)\n",
    "- Different focuses:\n",
    "    - a. A: How many children does Nigel have? B: Nigel has fourteen$_F$ children.\n",
    "    - b. A: Who has fourteen children? B: Nigel$_F$ has fourteen children.\n",
    "    - (https://www.tandfonline.com/doi/full/10.1080/0163853X.2017.1316038)"
   ]
  },
  {
   "cell_type": "markdown",
   "id": "36573c0f-1e44-442f-bc66-6367ed510b91",
   "metadata": {},
   "source": [
    "# $p \\lor (p \\land q)$"
   ]
  },
  {
   "cell_type": "markdown",
   "id": "12fe31e4-2740-4a95-a96f-619c4752feb8",
   "metadata": {
    "jp-MarkdownHeadingCollapsed": true
   },
   "source": [
    "## Utterance $(p \\land \\neg q) \\lor (p \\land q)$ w/ belief $p$"
   ]
  },
  {
   "cell_type": "code",
   "execution_count": 13,
   "id": "6d2b2ff9-ba83-4423-829c-4589a971767d",
   "metadata": {},
   "outputs": [],
   "source": [
    "s = 'lor(p(i0, M), land(p(i1, M), p(i0, M)))'\n",
    "prob_knows = 0.8"
   ]
  },
  {
   "cell_type": "code",
   "execution_count": 14,
   "id": "5e46e46a-7bd9-4847-a914-88a88140f6d8",
   "metadata": {},
   "outputs": [
    {
     "name": "stdout",
     "output_type": "stream",
     "text": [
      "lor(p(i0, M), land(p(i1, M), p(i0, M)))\n",
      "terms:  [p0, p1] \n",
      "\n",
      "lor(EXH(p(i0, M)), land(p(i1, M), p(i0, M)))\n",
      "\t [p1 = False, p0 = True]\n",
      "\t [p1 = True, p0 = True]\n",
      "\n",
      "\n",
      "Synonymy table:\n",
      "          0\n",
      "    0 True \n",
      "\n"
     ]
    },
    {
     "name": "stderr",
     "output_type": "stream",
     "text": [
      "100%|█████████████████████████████████████████████████████████████████████████████████████████████████████████████████████████████| 10000/10000 [00:57<00:00, 175.40it/s]\n",
      "100%|████████████████████████████████████████████████████████████████████████████████████████████████████████████████████████████████| 643/643 [00:00<00:00, 1995.38it/s]"
     ]
    },
    {
     "name": "stdout",
     "output_type": "stream",
     "text": [
      "{(0, p0): np.float64(5.451818500314078e-08)}\n"
     ]
    },
    {
     "name": "stderr",
     "output_type": "stream",
     "text": [
      "\n"
     ]
    },
    {
     "data": {
      "image/png": "[encoded data removed]",
      "text/plain": [
       "<Figure size 640x480 with 1 Axes>"
      ]
     },
     "metadata": {},
     "output_type": "display_data"
    }
   ],
   "source": [
    "run_boolean_simulation(s, prob_knows)"
   ]
  },
  {
   "cell_type": "markdown",
   "id": "80638afd-b662-4547-8461-23f658f619f8",
   "metadata": {
    "jp-MarkdownHeadingCollapsed": true
   },
   "source": [
    "### Analysis of specific likelihoods"
   ]
  },
  {
   "cell_type": "code",
   "execution_count": 11,
   "id": "c337afa2-21b4-4742-b715-d175d035dd95",
   "metadata": {},
   "outputs": [],
   "source": [
    "s = 'lor(p(i0, M), land(p(i1, M), p(i0, M)))'\n",
    "hypotheses = [\n",
    "    'tuple_(u0, p(i0, M))',\n",
    "    'tuple_(u0, p(i1, M))',\n",
    "    'tuple_(u0, lor(p(i1, M), p(i0, M)))',\n",
    "    'tuple_(u0, land(lnot(p(i1, M)), p(i0, M)))',\n",
    "    'tuple_(u0, lor(p(i0, M), land(p(i1, M), p(i0, M)))'\n",
    "]\n",
    "\n",
    "grammar_phon = define_grammar(\n",
    "    2, \n",
    "    False\n",
    ")"
   ]
  },
  {
   "cell_type": "code",
   "execution_count": 12,
   "id": "82d11d9f-e497-43f3-97b7-37a1a4e3e5b0",
   "metadata": {},
   "outputs": [
    {
     "name": "stdout",
     "output_type": "stream",
     "text": [
      "terms:  [p0, p1] \n",
      "\n",
      "lor(EXH(p(i0, M)), land(p(i1, M), p(i0, M)))\n",
      "\t [p1 = False, p0 = True]\n",
      "\t [p1 = True, p0 = True]\n",
      "\n",
      "\n",
      "Synonymy table:\n",
      "          0\n",
      "    0 True \n",
      "\n"
     ]
    },
    {
     "name": "stderr",
     "output_type": "stream",
     "text": [
      "100%|█████████████████████████████████████████████████████████████████████████████████████████████████████████████████████████████████████| 5/5 [00:00<00:00, 540.27it/s]"
     ]
    },
    {
     "name": "stdout",
     "output_type": "stream",
     "text": [
      "\n",
      "----------\n",
      "hyp:  lambda M: tuple_(u0, p(i0, M))\n",
      "qud:  <QUD.ProductQUD object at 0x7f117d6f2c90>\n",
      "util: 0.0\n",
      "exp KL:  1.0\n",
      "prob belief:  0.1538461538461538\n",
      "total lik:  0.1538461538461538\n",
      "\n",
      "----------\n",
      "hyp:  lambda M: tuple_(u0, p(i1, M))\n",
      "qud:  <QUD.ProductQUD object at 0x7f117d6f2c90>\n",
      "util: -inf\n",
      "exp KL:  0.0\n",
      "inconsistent prob:  0.0\n",
      "\n",
      "\n",
      "----------\n",
      "hyp:  lambda M: tuple_(u0, lor(p(i1, M), p(i0, M)))\n",
      "qud:  <QUD.ProductQUD object at 0x7f117d6f2c90>\n",
      "util: -inf\n",
      "exp KL:  0.0\n",
      "inconsistent prob:  0.0\n",
      "\n",
      "\n",
      "----------\n",
      "hyp:  lambda M: tuple_(u0, land(lnot(p(i1, M)), p(i0, M)))\n",
      "qud:  <QUD.ProductQUD object at 0x7f117d6f2c90>\n",
      "util: -0.6931471805599453\n",
      "exp KL:  0.03125\n",
      "prob belief:  0.4102564102564103\n",
      "total lik:  0.012820512820512822\n",
      "\n",
      "----------\n",
      "hyp:  lambda M: tuple_(u0, lor(p(i0, M), land(p(i1, M), p(i0, M))))\n",
      "qud:  <QUD.ProductQUD object at 0x7f117d6f2c90>\n",
      "util: 0.0\n",
      "exp KL:  1.0\n",
      "prob belief:  0.1538461538461538\n",
      "total lik:  0.1538461538461538\n"
     ]
    },
    {
     "name": "stderr",
     "output_type": "stream",
     "text": [
      "\n"
     ]
    },
    {
     "data": {
      "text/plain": [
       "{lambda M: tuple_(u0, p(i0, M)): -19.016648347220592,\n",
       " lambda M: tuple_(u0, p(i1, M)): -92.40203029796761,\n",
       " lambda M: tuple_(u0, lor(p(i1, M), p(i0, M))): -93.151998576356,\n",
       " lambda M: tuple_(u0, land(lnot(p(i1, M)), p(i0, M))): -44.95150029357934,\n",
       " lambda M: tuple_(u0, lor(p(i0, M), land(p(i1, M), p(i0, M)))): -20.516584903997348}"
      ]
     },
     "execution_count": 12,
     "metadata": {},
     "output_type": "execute_result"
    }
   ],
   "source": [
    "analyse_specific_hyps(\n",
    "    s=s,\n",
    "    hypotheses=hypotheses,\n",
    "    n_props=n_props,\n",
    "    grammar_phon=grammar_phon,\n",
    "    qud=qud,\n",
    "    temp=5,\n",
    "    likelihood_temperature=0.1,\n",
    "    prior_temperature=6,\n",
    "    print_log=True,\n",
    ")"
   ]
  },
  {
   "cell_type": "markdown",
   "id": "5f366b07-8f54-4389-99d6-7a576baa6977",
   "metadata": {},
   "source": [
    "Problem:\n",
    "- An utterance of 'p or (p and q)' might be (among others):\n",
    "    1. A non exhaustified utterance meaning 'p', with speaker's belief 'p' (UNLIKELY)\n",
    "    2. An exhaustified utterance 'EXH(p) or (p and q)', with speaker's belief '(p and not q) or (p and q)' -> 'p' (Ignorance implicature)\n",
    "- The point of the example is that to express just belief state 'p', a speaker would use this longer expression rather than just saying 'p'."
   ]
  },
  {
   "cell_type": "markdown",
   "id": "bcb09cc0-413e-4898-b58f-461703687439",
   "metadata": {
    "jp-MarkdownHeadingCollapsed": true
   },
   "source": [
    "# $p$"
   ]
  },
  {
   "cell_type": "code",
   "execution_count": 6,
   "id": "ece8ed56-2864-4ade-9868-ab85c838e088",
   "metadata": {},
   "outputs": [
    {
     "name": "stdout",
     "output_type": "stream",
     "text": [
      "p(i0, M)\n"
     ]
    }
   ],
   "source": [
    "s = 'p(i0, M)'"
   ]
  },
  {
   "cell_type": "markdown",
   "id": "69a42d23-c947-4457-835f-697d6fa78216",
   "metadata": {
    "jp-MarkdownHeadingCollapsed": true
   },
   "source": [
    "## High p_know: utterance 'p and not q' w/ belief 'p and not q'"
   ]
  },
  {
   "cell_type": "code",
   "execution_count": 11,
   "id": "2eed5257-7793-4aac-87f1-aed053a64082",
   "metadata": {},
   "outputs": [],
   "source": [
    "prob_knows = 0.9"
   ]
  },
  {
   "cell_type": "code",
   "execution_count": 12,
   "id": "59faa336-f1c2-48d6-a329-aacfafffe297",
   "metadata": {},
   "outputs": [
    {
     "name": "stdout",
     "output_type": "stream",
     "text": [
      "p(i0, M)\n",
      "terms:  [p0, p1] \n",
      "\n",
      "p(i0, M)\n",
      "\t [p0 = True]\n",
      "\t [p1 = True, p0 = True]\n",
      "\n",
      "\n",
      "EXH(p(i0, M))\n",
      "\t [p1 = False, p0 = True]\n",
      "\n",
      "\n",
      "Synonymy table:\n",
      "          0     1\n",
      "    0 True  False\n",
      "    1 False True \n",
      "\n"
     ]
    },
    {
     "name": "stderr",
     "output_type": "stream",
     "text": [
      "100%|█████████████████████████████████████████████████████████████████████████████████████████████████████████████████████████████| 10000/10000 [00:52<00:00, 191.59it/s]\n",
      "100%|████████████████████████████████████████████████████████████████████████████████████████████████████████████████████████████████| 832/832 [00:00<00:00, 1514.40it/s]\n"
     ]
    },
    {
     "name": "stdout",
     "output_type": "stream",
     "text": [
      "{(0, Not(p0)): np.float64(6.609010760532878e-51),\n",
      " (0, And(p1, p0)): np.float64(4.102648262587442e-18),\n",
      " (0, Not(Implies(Not(p0), p1))): np.float64(2.2314431668390045e-51),\n",
      " (0, p0): np.float64(5.697562896669402e-13),\n",
      " (0, Not(p1)): np.float64(6.609010760532878e-51),\n",
      " (1, And(Not(Not(p0)), Not(p1))): np.float64(0.06605953500543775)}\n"
     ]
    },
    {
     "data": {
      "image/png": "[encoded data removed]",
      "text/plain": [
       "<Figure size 640x480 with 1 Axes>"
      ]
     },
     "metadata": {},
     "output_type": "display_data"
    }
   ],
   "source": [
    "run_boolean_simulation(s, prob_knows)"
   ]
  },
  {
   "cell_type": "markdown",
   "id": "8a879e5e-bb3a-4979-8b2a-f67b9ea261fb",
   "metadata": {},
   "source": [
    "Problem:\n",
    "- An utterance of 'p' (w/ QUD: 'whether p and whether q') might be any of:\n",
    "    1. An exhaustified utterance meaning 'p and not q', with speaker's belief = 'p and not q'\n",
    "    1. A partial description of the speaker's belief, with speaker's belief = 'p and q'\n",
    "    1. A full description of the speaker's belief, with speaker's belief = 'p'\n",
    "- The RSA strategy explains why if the belief is 'p and not q', the speaker would use the exhaustified utterance rather than the non-exhaustified one (relevant to 1.)\n",
    "- The LOT component models partial beliefs (relevant to 3.)\n",
    "- However, there is at the moment no mechanism that leads S1 to answering the QUD as much as possible given the belief state. This would need to be added manually.\n",
    "    - This is related to what RSA does naturally with full utterance space, namely: convey as much information as possible. But it is not quite the same as RSA, because it does not depend on the specific available utterances.\n",
    "    - It is captured implicitly in the KL divergence before normalization, since that gives an absolute measure of how similar the listener's beliefs become to the speaker's upon hearing the utterance.\n",
    "    - So, I could use the _expected_ KL divergence? But what's the _interpretation_ of that?"
   ]
  },
  {
   "cell_type": "markdown",
   "id": "c8b4c144-8c33-46ac-96a4-d7c4f2041811",
   "metadata": {
    "jp-MarkdownHeadingCollapsed": true
   },
   "source": [
    "## Low p_know: utterance 'p' w/ belief 'p' (ignorance implicature wrt q)"
   ]
  },
  {
   "cell_type": "code",
   "execution_count": 23,
   "id": "4e0e7a1e-afe3-4bf3-9613-0c513d6a3781",
   "metadata": {},
   "outputs": [
    {
     "name": "stdout",
     "output_type": "stream",
     "text": [
      "p(i1, M)\n"
     ]
    }
   ],
   "source": [
    "prob_knows = 0.3"
   ]
  },
  {
   "cell_type": "code",
   "execution_count": 13,
   "id": "2179b350-c6d7-4a6c-ac33-753f067a0c21",
   "metadata": {},
   "outputs": [
    {
     "name": "stdout",
     "output_type": "stream",
     "text": [
      "p(i0, M)\n",
      "terms:  [p0, p1] \n",
      "\n",
      "p(i0, M)\n",
      "\t [p0 = True]\n",
      "\t [p1 = True, p0 = True]\n",
      "\n",
      "\n",
      "EXH(p(i0, M))\n",
      "\t [p1 = False, p0 = True]\n",
      "\n",
      "\n",
      "Synonymy table:\n",
      "          0     1\n",
      "    0 True  False\n",
      "    1 False True \n",
      "\n"
     ]
    },
    {
     "name": "stderr",
     "output_type": "stream",
     "text": [
      "100%|█████████████████████████████████████████████████████████████████████████████████████████████████████████████████████████████| 10000/10000 [00:48<00:00, 205.85it/s]\n",
      "100%|██████████████████████████████████████████████████████████████████████████████████████████████████████████████████████████████| 1206/1206 [00:00<00:00, 2058.07it/s]\n"
     ]
    },
    {
     "name": "stdout",
     "output_type": "stream",
     "text": [
      "{(0, Not(p1)): np.float64(6.609010760532878e-51),\n",
      " (0, p0): np.float64(1.1629045409777195e-12)}\n"
     ]
    },
    {
     "data": {
      "image/png": "[encoded data removed]",
      "text/plain": [
       "<Figure size 640x480 with 1 Axes>"
      ]
     },
     "metadata": {},
     "output_type": "display_data"
    }
   ],
   "source": [
    "run_boolean_simulation(s, prob_knows)"
   ]
  },
  {
   "cell_type": "markdown",
   "id": "ffcf8ab9-1f28-4aba-b863-aecbaa6b4fb6",
   "metadata": {},
   "source": [
    "# $p \\lor q$"
   ]
  },
  {
   "cell_type": "code",
   "execution_count": 18,
   "id": "0d04f75f-d248-4af8-a32f-50e98952034c",
   "metadata": {},
   "outputs": [],
   "source": [
    "s = 'lor( p(i0, M), p(i1, M) )'"
   ]
  },
  {
   "cell_type": "markdown",
   "id": "50d48fe2-8b73-4b05-a987-49c569841997",
   "metadata": {
    "jp-MarkdownHeadingCollapsed": true
   },
   "source": [
    "## High p_know: utterance $EXH(p \\lor q)$ w/ belief $(p \\lor q) \\land \\neg(p \\land q)$"
   ]
  },
  {
   "cell_type": "code",
   "execution_count": 19,
   "id": "77d3aa9a-838e-47ce-a965-0c5c6949b29d",
   "metadata": {},
   "outputs": [],
   "source": [
    "prob_knows = 0.9"
   ]
  },
  {
   "cell_type": "code",
   "execution_count": 20,
   "id": "e2330c1b-1c35-401e-89a8-48903107258d",
   "metadata": {},
   "outputs": [
    {
     "name": "stdout",
     "output_type": "stream",
     "text": [
      "lor(p(i0, M), p(i1, M))\n",
      "terms:  [p0, p1] \n",
      "\n",
      "lor(p(i0, M), p(i1, M))\n",
      "\t [p1 = True, p0 = False]\n",
      "\t [p1 = True, p0 = True]\n",
      "\t [p1 = False, p0 = True]\n",
      "\n",
      "\n",
      "EXH(lor(p(i0, M), p(i1, M)))\n",
      "\t [p1 = True, p0 = False]\n",
      "\t [p1 = False, p0 = True]\n",
      "\n",
      "\n",
      "Synonymy table:\n",
      "          0     1\n",
      "    0 True  False\n",
      "    1 False True \n",
      "\n"
     ]
    },
    {
     "name": "stderr",
     "output_type": "stream",
     "text": [
      "100%|███████████████████████████████████████████████████████████████████████████████████████████████████████████████████████████| 50000/50000.0 [04:19<00:00, 192.74it/s]\n",
      "100%|██████████████████████████████████████████████████████████████████████████████████████████████████████████████████████████████| 2261/2261 [00:01<00:00, 1353.32it/s]\n"
     ]
    },
    {
     "name": "stdout",
     "output_type": "stream",
     "text": [
      "{(0, And(p1, Not(p1))): np.float64(3.121974662478175e-51),\n",
      " (0, p1): np.float64(2.6590040163734184e-22),\n",
      " (0, p0): np.float64(2.7632703144946926e-22),\n",
      " (0, And(p0, Not(p1))): np.float64(6.434300382295992e-27),\n",
      " (1, And(Implies(p0, Not(p1)), Implies(Not(p1), p0))): np.float64(5.479659228125989e-13),\n",
      " (1, And(Implies(And(Not(p0), Not(p1)), p0), Not(p0))): np.float64(1.739549850468676e-16),\n",
      " (1, And(p0, Not(p1))): np.float64(1.5002198092619783e-16)}\n"
     ]
    },
    {
     "data": {
      "image/png": "[encoded data removed]",
      "text/plain": [
       "<Figure size 640x480 with 1 Axes>"
      ]
     },
     "metadata": {},
     "output_type": "display_data"
    }
   ],
   "source": [
    "run_boolean_simulation(s, prob_knows, n_steps=5*1e4)"
   ]
  },
  {
   "cell_type": "markdown",
   "id": "f7354831-7a38-4ab8-9bcc-3618f661b0f7",
   "metadata": {
    "jp-MarkdownHeadingCollapsed": true
   },
   "source": [
    "### Enumerative approximation"
   ]
  },
  {
   "cell_type": "code",
   "execution_count": 7,
   "id": "2c60c4be-c07e-41b8-9bc6-40f07c0d0afc",
   "metadata": {},
   "outputs": [],
   "source": [
    "hypotheses = [\n",
    "    'tuple_(u0, p(i0, M))',\n",
    "    'tuple_(u0, (p(i1, M))',\n",
    "    'tuple_(u1, leitheror(p(i0, M),p(i1, M)))',\n",
    "    'tuple_(u0, lor(p(i0, M),p(i1, M))',\n",
    "    'tuple_(u1, land(p(i0, M), lnot(p(i1, M)))',\n",
    "    'tuple_(u1, land(lor(p(i0, M), p(i1, M)), lnot(land(p(i0, M), p(i1, M))))'\n",
    "]"
   ]
  },
  {
   "cell_type": "code",
   "execution_count": 8,
   "id": "b8d55b5f-e1d2-437b-a2a3-1b38679c3203",
   "metadata": {},
   "outputs": [],
   "source": [
    "possible_hypotheses = list(grammar_belief.enumerate(5))"
   ]
  },
  {
   "cell_type": "code",
   "execution_count": 9,
   "id": "a793f521-3f01-481b-a209-b68f7cc2fe48",
   "metadata": {},
   "outputs": [
    {
     "data": {
      "text/plain": [
       "18936"
      ]
     },
     "execution_count": 9,
     "metadata": {},
     "output_type": "execute_result"
    }
   ],
   "source": [
    "len(possible_hypotheses)"
   ]
  },
  {
   "cell_type": "code",
   "execution_count": 10,
   "id": "71456146-15f3-4072-b528-ad17582cd164",
   "metadata": {},
   "outputs": [
    {
     "name": "stdout",
     "output_type": "stream",
     "text": [
      "terms:  [p0, p1] \n",
      "\n",
      "lor(p(i0, M), p(i1, M))\n",
      "\t [p0 = True]\n",
      "\t [p1 = True, p0 = False]\n",
      "\t [p1 = True, p0 = True]\n",
      "\n",
      "\n",
      "EXH(lor(p(i0, M), p(i1, M)))\n",
      "\t [p1 = True, p0 = False]\n",
      "\t [p1 = False, p0 = True]\n",
      "\n",
      "\n",
      "Synonymy table:\n",
      "          0     1\n",
      "    0 True  False\n",
      "    1 False True \n",
      "\n"
     ]
    },
    {
     "name": "stderr",
     "output_type": "stream",
     "text": [
      "100%|█████████████████████████████████████████████████████████████████████████████████████████████████████████████████████████████| 18936/18936 [00:25<00:00, 743.93it/s]\n"
     ]
    }
   ],
   "source": [
    "posterior_scores = analyse_specific_hyps(\n",
    "    s=s,\n",
    "    hypotheses=possible_hypotheses,\n",
    "    n_props=2,\n",
    "    grammar_phon=grammar_phon,\n",
    "    qud=qud,\n",
    "    temp=3,\n",
    "    likelihood_temperature=0.1,\n",
    "    prior_temperature=6,\n",
    "    print_log=False\n",
    ")"
   ]
  },
  {
   "cell_type": "code",
   "execution_count": 11,
   "id": "c4c3a23a-1053-4df2-b2f6-759df1e85607",
   "metadata": {},
   "outputs": [
    {
     "name": "stderr",
     "output_type": "stream",
     "text": [
      "  8%|██████████                                                                                                                     | 1500/18936 [00:41<07:59, 36.33it/s]\n"
     ]
    },
    {
     "name": "stdout",
     "output_type": "stream",
     "text": [
      "{(1, Or(Not(Or(p1, Not(p0))), And(Not(p0), p1))): np.float64(0.0004090751935660656), (0, Or(p0, p1)): np.float64(9.93761145906093e-05), (0, p1): np.float64(2.2970113145263278e-08), (0, p0): np.float64(2.22462925322201e-08), (0, Or(Not(Or(p1, Not(p0))), And(Not(p0), p1))): np.float64(1.142874652173473e-09)}\n"
     ]
    },
    {
     "data": {
      "image/png": "[encoded data removed]",
      "text/plain": [
       "<Figure size 640x480 with 1 Axes>"
      ]
     },
     "metadata": {},
     "output_type": "display_data"
    }
   ],
   "source": [
    "plot_results(posterior_scores, dict_type='scores', first_n=1500)"
   ]
  },
  {
   "cell_type": "markdown",
   "id": "c1dd458a-274b-4631-86ea-a80c37953696",
   "metadata": {
    "jp-MarkdownHeadingCollapsed": true
   },
   "source": [
    "### Specific likelihoods"
   ]
  },
  {
   "cell_type": "code",
   "execution_count": 12,
   "id": "74dca77c-66db-41c4-b03b-65254c5f7f3e",
   "metadata": {},
   "outputs": [],
   "source": [
    "hypotheses = [\n",
    "    'tuple_(u0, p(i0, M))',\n",
    "    'tuple_(u0, (p(i1, M))',\n",
    "    'tuple_(u0, lor(p(i0, M),p(i1, M))',\n",
    "    'tuple_(u1, land(p(i0, M), lnot(p(i1, M)))',\n",
    "    'tuple_(u1, land(lor(p(i0, M), p(i1, M)), lnot(land(p(i0, M), p(i1, M))))'\n",
    "]"
   ]
  },
  {
   "cell_type": "code",
   "execution_count": 13,
   "id": "e44b557d-31fc-4940-b17a-28898601bebc",
   "metadata": {},
   "outputs": [
    {
     "name": "stdout",
     "output_type": "stream",
     "text": [
      "terms:  [p0, p1] \n",
      "\n",
      "lor(p(i0, M), p(i1, M))\n",
      "\t [p0 = True]\n",
      "\t [p1 = True, p0 = False]\n",
      "\t [p1 = True, p0 = True]\n",
      "\n",
      "\n",
      "EXH(lor(p(i0, M), p(i1, M)))\n",
      "\t [p1 = True, p0 = False]\n",
      "\t [p1 = False, p0 = True]\n",
      "\n",
      "\n",
      "Synonymy table:\n",
      "          0     1\n",
      "    0 True  False\n",
      "    1 False True \n",
      "\n"
     ]
    },
    {
     "name": "stderr",
     "output_type": "stream",
     "text": [
      "100%|█████████████████████████████████████████████████████████████████████████████████████████████████████████████████████████████████████| 5/5 [00:00<00:00, 412.96it/s]"
     ]
    },
    {
     "name": "stdout",
     "output_type": "stream",
     "text": [
      "\n",
      "----------\n",
      "hyp:  lambda M: tuple_(u0, p(i0, M))\n",
      "qud:  <QUD.ProductQUD object at 0x7f3958671730>\n",
      "util: -0.4054651081081645\n",
      "exp KL:  0.1316872427983538\n",
      "prob belief:  0.4\n",
      "total lik:  0.05267489711934153\n",
      "\n",
      "----------\n",
      "hyp:  lambda M: tuple_(u0, p(i1, M))\n",
      "qud:  <QUD.ProductQUD object at 0x7f3958671730>\n",
      "util: -0.4054651081081645\n",
      "exp KL:  0.1316872427983538\n",
      "prob belief:  0.4\n",
      "total lik:  0.05267489711934153\n",
      "\n",
      "----------\n",
      "hyp:  lambda M: tuple_(u0, lor(p(i0, M), p(i1, M)))\n",
      "qud:  <QUD.ProductQUD object at 0x7f3958671730>\n",
      "util: 0.0\n",
      "exp KL:  1.0\n",
      "prob belief:  0.26666666666666666\n",
      "total lik:  0.26666666666666666\n",
      "\n",
      "----------\n",
      "hyp:  lambda M: tuple_(u1, land(p(i0, M), lnot(p(i1, M))))\n",
      "qud:  <QUD.ProductQUD object at 0x7f3958671730>\n",
      "util: -0.6931471805599453\n",
      "exp KL:  0.03125\n",
      "prob belief:  0.06666666666666667\n",
      "total lik:  0.0020833333333333333\n",
      "\n",
      "----------\n",
      "hyp:  lambda M: tuple_(u1, land(lor(p(i0, M), p(i1, M)), lnot(land(p(i0, M), p(i1, M)))))\n",
      "qud:  <QUD.ProductQUD object at 0x7f3958671730>\n",
      "util: 0.0\n",
      "exp KL:  1.0\n",
      "prob belief:  0.4\n",
      "total lik:  0.4\n"
     ]
    },
    {
     "name": "stderr",
     "output_type": "stream",
     "text": [
      "\n"
     ]
    },
    {
     "data": {
      "text/plain": [
       "{lambda M: tuple_(u0, p(i0, M)): -29.850313832447775,\n",
       " lambda M: tuple_(u0, p(i1, M)): -29.850313832447775,\n",
       " lambda M: tuple_(u0, lor(p(i0, M), p(i1, M))): -14.38167778650957,\n",
       " lambda M: tuple_(u1, land(p(i0, M), lnot(p(i1, M)))): -63.23779759579612,\n",
       " lambda M: tuple_(u1, land(lor(p(i0, M), p(i1, M)), lnot(land(p(i0, M), p(i1, M))))): -12.162780432295058}"
      ]
     },
     "execution_count": 13,
     "metadata": {},
     "output_type": "execute_result"
    }
   ],
   "source": [
    "analyse_specific_hyps(\n",
    "    s, \n",
    "    hypotheses, \n",
    "    n_props, \n",
    "    grammar_phon, \n",
    "    qud=qud,\n",
    "    # hypothesis kwargs\n",
    "    temp=5,\n",
    "    likelihood_temperature=0.1,\n",
    "    prior_temperature=6,\n",
    ")"
   ]
  },
  {
   "cell_type": "markdown",
   "id": "498ed2ad-dd86-453f-a48b-5728082bb882",
   "metadata": {
    "jp-MarkdownHeadingCollapsed": true
   },
   "source": [
    "## Low p_know: utterance $p \\lor q$ w/ belief $p \\lor q$"
   ]
  },
  {
   "cell_type": "code",
   "execution_count": 21,
   "id": "58ff1e38-525c-4ef3-bc7a-d98e73e97ec6",
   "metadata": {},
   "outputs": [],
   "source": [
    "prob_knows = 0.1"
   ]
  },
  {
   "cell_type": "code",
   "execution_count": 22,
   "id": "4183ca45-f32c-46ed-98d5-e35fa8511060",
   "metadata": {},
   "outputs": [
    {
     "name": "stdout",
     "output_type": "stream",
     "text": [
      "lor(p(i0, M), p(i1, M))\n",
      "terms:  [p0, p1] \n",
      "\n",
      "lor(p(i0, M), p(i1, M))\n",
      "\t [p1 = True, p0 = False]\n",
      "\t [p1 = True, p0 = True]\n",
      "\t [p1 = False, p0 = True]\n",
      "\n",
      "\n",
      "EXH(lor(p(i0, M), p(i1, M)))\n",
      "\t [p1 = True, p0 = False]\n",
      "\t [p1 = False, p0 = True]\n",
      "\n",
      "\n",
      "Synonymy table:\n",
      "          0     1\n",
      "    0 True  False\n",
      "    1 False True \n",
      "\n"
     ]
    },
    {
     "name": "stderr",
     "output_type": "stream",
     "text": [
      "100%|███████████████████████████████████████████████████████████████████████████████████████████████████████████████████████████| 50000/50000.0 [04:30<00:00, 184.86it/s]\n",
      "100%|██████████████████████████████████████████████████████████████████████████████████████████████████████████████████████████████| 4141/4141 [00:01<00:00, 2224.98it/s]\n"
     ]
    },
    {
     "name": "stdout",
     "output_type": "stream",
     "text": [
      "{(0, p1): np.float64(5.6469794531435875e-18),\n",
      " (0, Implies(Not(p0), p1)): np.float64(10.845506217696983),\n",
      " (0, Not(Not(p0))): np.float64(2.3538072528153e-18),\n",
      " (0, Not(p0)): np.float64(6.609010760532878e-51),\n",
      " (1, Or(Not(Not(p1)), p1)): np.float64(2.2314431668390045e-51),\n",
      " (1, Not(p0)): np.float64(6.609010760532878e-51)}\n"
     ]
    },
    {
     "data": {
      "image/png": "[encoded data removed]",
      "text/plain": [
       "<Figure size 640x480 with 1 Axes>"
      ]
     },
     "metadata": {},
     "output_type": "display_data"
    }
   ],
   "source": [
    "run_boolean_simulation(s, prob_knows)"
   ]
  },
  {
   "cell_type": "markdown",
   "id": "0dbaff0a-5c08-41fd-9432-dbdd2eb1aba1",
   "metadata": {},
   "source": [
    "Low range of P(knows):\n",
    "- P(knows) $< 0.10$: best is belief state 'p or q'\n",
    "- The following two have the same _likelihood_:\n",
    "    - Belief \"p or q\" under utterance \"p or q\"\n",
    "    - Belief \"(p or q) and not(p and q)\" under utterance \"EXH(p or q)\".\n",
    "- Because they are equivalent wrt the two components of the likelihood:\n",
    "    - They fully convey the respective beliefs (KL=0) \n",
    "    - They imply neither p nor q.\n",
    "- However, 'p or q' \"wins\" because it has a higher prior probability.\n",
    "- Correct prediction: If the p(know each prop) is low, bare 'p or q' (but doesn't know which) is a plausible interpretation.\n",
    "\n",
    "Mid range of P(knows)\n",
    "- P(knows) $(0.10,0.95)$: best are 'p', 'q'\n",
    "- Desired but unrealized prediction:\n",
    "    - For the mid range of p(know each prop) the \"(p or q) and not(p and q)\" interpretation should become most likely\n",
    "        - This is an ignorance implicature meaning: \"Exactly one is true, but I don't know which one\"\n",
    "    - The 'full knowledge' interpretations ('p and not q', 'q and not p') would be too strange to be right\n",
    "        - These are: 'p and not q' and 'not p and q' under the utterance 'EXH(p or q)'\n",
    "        - What is strange for real speakers about the 'full knowledge' interpretations given phonform 'p or q'?\n",
    "            - If belief state was 'p and not q', they would not say 'EXH(p or q)', because 'EXH(p or q)' leaves a false state open (namely, p=False and q=True).\n",
    "    - The 'partial beliefs' interpretations ('p' and 'q', under utterance 'p or q') _should_ be implausible for this mid range\n",
    "        - If belief state was 'p', the speaker would just convey 'p'.\n",
    "        - Saying 'p or q' leaves a false state open (p=False, q=True).\n",
    "- The core of the problem:\n",
    "    - Belief state \"(p or q) and not(p and q)\" has the same prob as \"p or q\"\n",
    "    - But the former might be more probable in context! For instance if I expect the speaker to have at least some information.\n",
    "    - This suggests a more sophisticated encoding for the listener's prior over belief states.\n",
    "    - At the moment, this is just $\\prod_i P(k_i)$, with $\\forall i k_i = \\beta$\n",
    "    - I want instead a prior where _excluding_ some possibilities gives a higher probability.\n",
    "\n",
    "Very high range of P(knows):\n",
    "- P(knows) $> 0.95$: best are 'p and not q', 'q and not p' under utterance 'EXH(p or q)'\n",
    "- Correct prediction: If the p(know each prop) is high enough, 'p or q' is interpreted as the speaker knowing that only one is true, but not saying which one.\n",
    "- This means \"Exactly one is true, but I'm not telling you which\""
   ]
  },
  {
   "cell_type": "markdown",
   "id": "e098c494-35fa-4cf6-9238-18a26f7b35bf",
   "metadata": {},
   "source": []
  }
 ],
 "metadata": {
  "kernelspec": {
   "display_name": "pLoT_RSA",
   "language": "python",
   "name": "plot_rsa"
  },
  "language_info": {
   "codemirror_mode": {
    "name": "ipython",
    "version": 3
   },
   "file_extension": ".py",
   "mimetype": "text/x-python",
   "name": "python",
   "nbconvert_exporter": "python",
   "pygments_lexer": "ipython3",
   "version": "3.12.3"
  }
 },
 "nbformat": 4,
 "nbformat_minor": 5
}
