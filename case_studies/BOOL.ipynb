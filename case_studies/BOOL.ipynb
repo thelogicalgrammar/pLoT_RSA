{
 "cells": [
  {
   "cell_type": "code",
   "execution_count": 1,
   "id": "6056b24a-6bb4-420a-a58a-82e5b59f46df",
   "metadata": {},
   "outputs": [],
   "source": [
    "import z3\n",
    "import numpy as np\n",
    "from functools import cache\n",
    "from pprint import pprint\n",
    "%load_ext line_profiler\n",
    "\n",
    "from importlib import reload\n",
    "import matplotlib.pyplot as plt"
   ]
  },
  {
   "cell_type": "code",
   "execution_count": 2,
   "id": "96a1e67c-acc1-4f97-a9a0-3c7bc8517252",
   "metadata": {},
   "outputs": [],
   "source": [
    "import itertools\n",
    "import networkx as nx\n",
    "from tqdm import tqdm\n",
    "from io import BytesIO\n",
    "import matplotlib.image as mpimg\n",
    "from matplotlib.offsetbox import OffsetImage, AnnotationBbox\n",
    "import html"
   ]
  },
  {
   "cell_type": "code",
   "execution_count": 3,
   "id": "ff9bd6b8-18b2-46ce-a50b-f8dcfe5a006b",
   "metadata": {},
   "outputs": [
    {
     "data": {
      "text/plain": [
       "<module 'grammar' from '/mnt/c/Users/faust/OneDrive - UvA/research_projects/2024_pLoTRSA/pLOT_RSA/case_studies/../model/grammar.py'>"
      ]
     },
     "execution_count": 3,
     "metadata": {},
     "output_type": "execute_result"
    }
   ],
   "source": [
    "import sys\n",
    "sys.path.append('../')\n",
    "sys.path.append('../model/')\n",
    "\n",
    "import simulation\n",
    "import analysis\n",
    "import grammar\n",
    "reload(simulation)\n",
    "reload(analysis)\n",
    "reload(grammar)"
   ]
  },
  {
   "cell_type": "code",
   "execution_count": 4,
   "id": "55a1ea6c-4ea2-47ac-b42f-6d1f5ac5aeb7",
   "metadata": {},
   "outputs": [],
   "source": [
    "from Models import BooleanModel\n",
    "from QUD import ProductQUD\n",
    "from analysis import parse, already_defined, analyse_specific_hyps\n",
    "from simulation import infer_meaning\n",
    "from grammar import define_grammar\n",
    "from utilities import (               \n",
    "    find_phonform_possible_structures,\n",
    "    print_possible_parses         \n",
    ")"
   ]
  },
  {
   "cell_type": "markdown",
   "id": "44a8d2de-592c-470e-9eb4-be1d73506739",
   "metadata": {
    "jp-MarkdownHeadingCollapsed": true
   },
   "source": [
    "# Plotting functions"
   ]
  },
  {
   "cell_type": "code",
   "execution_count": 260,
   "id": "de3b5b64-97e7-4b58-9485-c1a6c560118d",
   "metadata": {},
   "outputs": [
    {
     "data": {
      "image/png": "[encoded data removed]",
      "text/plain": [
       "<Figure size 200x200 with 1 Axes>"
      ]
     },
     "metadata": {},
     "output_type": "display_data"
    }
   ],
   "source": [
    "# Number of Boolean propositions (assumed to be 2)\n",
    "n_props = 2\n",
    "\n",
    "# Generate all 2^n truth assignments.\n",
    "assignments = list(itertools.product([True, False], repeat=n_props))\n",
    "\n",
    "# Create compact labels for each assignment.\n",
    "# For example, (True, False) becomes:\n",
    "# \"p0=1\\np1=0\"\n",
    "labels = {\n",
    "    a: '\\n'.join(f\"p{i}={'1' if a[i] else '0'}\" for i in range(n_props))\n",
    "    for a in assignments\n",
    "}\n",
    "\n",
    "# Define the partial order: a <= b if for each proposition,\n",
    "# whenever a[i] is True then b[i] is also True.\n",
    "def is_less(a, b):\n",
    "    if a == b:\n",
    "        return False\n",
    "    for i in range(n_props):\n",
    "        if a[i] and not b[i]:\n",
    "            return False\n",
    "    return True\n",
    "\n",
    "# Build the Hasse diagram (covering graph).\n",
    "G = nx.DiGraph()\n",
    "for a in assignments:\n",
    "    G.add_node(a)\n",
    "for a in assignments:\n",
    "    for b in assignments:\n",
    "        if is_less(a, b):\n",
    "            # Only add an edge if there is no intermediate c with a < c < b.\n",
    "            is_cover = True\n",
    "            for c in assignments:\n",
    "                if c != a and c != b and is_less(a, c) and is_less(c, b):\n",
    "                    is_cover = False\n",
    "                    break\n",
    "            if is_cover:\n",
    "                G.add_edge(a, b)\n",
    "\n",
    "# For 2 variables, manually assign positions to form a rotated square (diamond).\n",
    "# Swap the mid-layer positions so that (True, False) appears on the left.\n",
    "pos = {\n",
    "    (False, False): (0, -1),\n",
    "    (True, False): (-1, 0),  # now on the left\n",
    "    (False, True): (1, 0),   # now on the right\n",
    "    (True, True): (0, 1)\n",
    "}\n",
    "\n",
    "# Create the figure with a small square size.\n",
    "fig, ax = plt.subplots(figsize=(2,2))\n",
    "nx.draw(G, pos, labels=labels, with_labels=True, node_color='lightblue',\n",
    "        node_size=1500, arrows=True, ax=ax)\n",
    "\n",
    "padding = 0.5\n",
    "ax.set_xlim(min(x for x, y in pos.values()) - padding,\n",
    "            max(x for x, y in pos.values()) + padding)\n",
    "ax.set_ylim(min(y for x, y in pos.values()) - padding,\n",
    "            max(y for x, y in pos.values()) + padding)\n",
    "\n",
    "plt.tight_layout(pad=1.0)  # Adjust the padding around the figure\n",
    "\n",
    "plt.savefig('figures/diagram.png', dpi=300)"
   ]
  },
  {
   "cell_type": "code",
   "execution_count": 11,
   "id": "5fa48bee-d0da-426d-a1e9-39bfd26835d3",
   "metadata": {},
   "outputs": [],
   "source": [
    "def get_hasse_diagram_for_expr(expr, n_props=2, figsize=(2,2), draw_labels=False, returnimage=True):\n",
    "    \"\"\"\n",
    "    Given a Z3 Boolean expression (assumed to be on variables named p0, p1, ...),\n",
    "    this function generates a Hasse diagram image of all assignments (with the \n",
    "    satisfying ones colored green, and others red).\n",
    "    \"\"\"\n",
    "    # Enumerate all assignments for n_props booleans.\n",
    "    all_assignments = list(itertools.product([False, True], repeat=n_props))\n",
    "    satisfying_assignments = set()\n",
    "    \n",
    "    # Helper for substitution mapping.\n",
    "    def subs_map(assignment):\n",
    "        return [(z3.Bool(f'p{i}'), z3.BoolVal(val)) for i, val in enumerate(assignment)]\n",
    "    \n",
    "    for assignment in all_assignments:\n",
    "        subs = subs_map(assignment)\n",
    "        result = z3.simplify(z3.substitute(expr, subs))\n",
    "        if z3.is_true(result):\n",
    "            satisfying_assignments.add(assignment)\n",
    "    \n",
    "    # Partial order: a <= b if for each proposition, if a[i] is True then b[i] is True.\n",
    "    def is_less(a, b):\n",
    "        if a == b:\n",
    "            return False\n",
    "        return all((not a[i]) or b[i] for i in range(n_props))\n",
    "    \n",
    "    # Build the graph and assign labels.\n",
    "    G = nx.DiGraph()\n",
    "    labels = {}\n",
    "    for a in all_assignments:\n",
    "        # Use a compact label format: one line per variable.\n",
    "        label = '\\n'.join(f\"p{i}={'1' if a[i] else '0'}\" for i in range(n_props))\n",
    "        labels[a] = label\n",
    "        G.add_node(a)\n",
    "    for a in all_assignments:\n",
    "        for b in all_assignments:\n",
    "            if is_less(a, b):\n",
    "                is_cover = True\n",
    "                for c in all_assignments:\n",
    "                    if c != a and c != b and is_less(a, c) and is_less(c, b):\n",
    "                        is_cover = False\n",
    "                        break\n",
    "                if is_cover:\n",
    "                    G.add_edge(a, b)\n",
    "    \n",
    "    # Create a custom layered layout: y coordinate = number of True values.\n",
    "    layers = {}\n",
    "    for a in all_assignments:\n",
    "        level = sum(a)\n",
    "        layers.setdefault(level, []).append(a)\n",
    "    pos = {}\n",
    "    for level, nodes in layers.items():\n",
    "        nodes_sorted = sorted(nodes, reverse=True)\n",
    "        count = len(nodes_sorted)\n",
    "        for i, a in enumerate(nodes_sorted):\n",
    "            x = (i - (count - 1) / 2) * 1.5\n",
    "            y = level\n",
    "            pos[a] = (x, y)\n",
    "    \n",
    "    node_colors = [\"green\" if a in satisfying_assignments else \"red\" for a in all_assignments]\n",
    "    \n",
    "    # Draw the diagram off-screen.\n",
    "    fig, ax = plt.subplots(figsize=figsize)\n",
    "    nx.draw(\n",
    "        G, \n",
    "        pos, \n",
    "        with_labels=draw_labels, \n",
    "        labels=labels, \n",
    "        node_color=node_colors,\n",
    "        node_size=500, \n",
    "        arrows=True, \n",
    "        ax=ax\n",
    "    )\n",
    "    ax.set_axis_off()\n",
    "    if returnimage:\n",
    "        buf = BytesIO()\n",
    "        plt.savefig(buf, format='png', bbox_inches='tight')\n",
    "        plt.close(fig)\n",
    "        buf.seek(0)\n",
    "        img = mpimg.imread(buf)\n",
    "        return img\n",
    "    else:\n",
    "        return fig, ax\n",
    "\n",
    "def plot_results(dictionary, solver, dict_type='tn', first_n=None, ignore_parse=False, figsize=(7,3)):\n",
    "    \"\"\"\n",
    "    Plot the output of analyse_specific_hyps.\n",
    "    Instead of using textual x tick labels, we place the corresponding Hasse diagram\n",
    "    image on top of each bar (each image represents the Boolean expression associated\n",
    "    with that bar).\n",
    "    \"\"\"\n",
    "    # Prepare the meanings dictionary (as in your original code).\n",
    "    if dict_type == 'tn':\n",
    "        meanings = dict()\n",
    "        for h in tqdm(list(dictionary.get_all(sorted=True))[::-1]):\n",
    "            m = h.model\n",
    "            meanings = already_defined(\n",
    "                meanings,\n",
    "                h(m),\n",
    "                np.exp(h.posterior_score),\n",
    "                solver\n",
    "            )\n",
    "    elif dict_type == 'scores':\n",
    "        sorted_posterior_scores = sorted(\n",
    "            dictionary.items(),\n",
    "            key=lambda item: item[1]\n",
    "        )[::-1]\n",
    "        meanings = dict()\n",
    "        for i, (h, score) in enumerate(tqdm(sorted_posterior_scores)):\n",
    "            m = h.model\n",
    "            u_i, meaning = h(m)\n",
    "            meanings = already_defined(\n",
    "                meanings,\n",
    "                (u_i, z3.simplify(meaning)),\n",
    "                np.exp(score),\n",
    "                solver\n",
    "            )\n",
    "            if first_n is not None and i == first_n:\n",
    "                break\n",
    "\n",
    "    pprint(meanings)\n",
    "\n",
    "    if ignore_parse:\n",
    "        meanings = compress_meaning_dict(meanings)\n",
    "\n",
    "    # Assume the keys are tuples (parse, expression) if not ignoring parsing.\n",
    "    keys, unnorm_ps = zip(*list(meanings.items()))\n",
    "    if not ignore_parse:\n",
    "        parses, expressions = zip(*keys)\n",
    "    expressions = [z3.simplify(x) for x in expressions]\n",
    "    \n",
    "    # Normalize probabilities.\n",
    "    unnorm_ps = np.array(unnorm_ps)\n",
    "    unnorm_ps = unnorm_ps / unnorm_ps.sum()\n",
    "    order = np.argsort(unnorm_ps)\n",
    "\n",
    "    # only plot the best 5\n",
    "    if len(order)>5:\n",
    "        order = order[-5:]\n",
    "    \n",
    "    # Create the bar plot.\n",
    "    fig, ax = plt.subplots(figsize=figsize)\n",
    "    \n",
    "    bars = ax.bar(np.arange(len(order)), unnorm_ps[order])\n",
    "    \n",
    "    ax.set_xticks(\n",
    "        np.arange(len(order))\n",
    "    )\n",
    "\n",
    "    xlabels = [\n",
    "        html.unescape(x._repr_html_())\n",
    "        for x in np.array(expressions)[order]\n",
    "    ]\n",
    "\n",
    "    if not ignore_parse:\n",
    "        xlabels = [\n",
    "            f\"{parse}, {expr}\"\n",
    "            for parse,expr\n",
    "            in zip(np.array(parses)[order],xlabels)\n",
    "        ]\n",
    "    \n",
    "    ax.set_xticklabels(\n",
    "        xlabels,\n",
    "        rotation='vertical'\n",
    "    )\n",
    "    \n",
    "    # Place the Hasse diagram image on top of each bar.\n",
    "    # For each bar, we determine its x-center and height.\n",
    "    for i, expr in enumerate(np.array(expressions)[order]):\n",
    "        diagram_img = get_hasse_diagram_for_expr(expr, n_props=2, figsize=(2.3,2.3))\n",
    "        im = OffsetImage(diagram_img, zoom=0.3)  # adjust zoom if needed\n",
    "        \n",
    "        # Get bar data: x-center and bar height.\n",
    "        bar = bars[i]\n",
    "        x_center = bar.get_x() + bar.get_width() / 2.\n",
    "        bar_height = bar.get_height()\n",
    "        \n",
    "        # Position the image just above the bar (adding a small fixed offset).\n",
    "        offset = 0.05  # adjust this offset to your liking\n",
    "        ab = AnnotationBbox(im, (x_center, bar_height + offset),\n",
    "                            xycoords='data',\n",
    "                            box_alignment=(0.5, 0),  # align bottom center of image with coordinate\n",
    "                            frameon=False)\n",
    "        ax.add_artist(ab)\n",
    "\n",
    "    ax.set_ylim(0, 1.3)\n",
    "    ax.set_yticks(np.linspace(0,1,5))\n",
    "    # Adjust bottom margin if needed.\n",
    "    plt.subplots_adjust(bottom=0.15)\n",
    "\n",
    "    # Hide the right and top spines\n",
    "    ax.spines.right.set_visible(False)\n",
    "    ax.spines.top.set_visible(False)\n",
    "    # Only show ticks on the left and bottom spines\n",
    "    ax.yaxis.set_ticks_position('left')\n",
    "    ax.xaxis.set_ticks_position('bottom')\n",
    "\n",
    "    return fig, ax"
   ]
  },
  {
   "cell_type": "markdown",
   "id": "476e835c-5704-433b-9790-624d24b0ddcb",
   "metadata": {
    "jp-MarkdownHeadingCollapsed": true
   },
   "source": [
    "# Setup"
   ]
  },
  {
   "cell_type": "markdown",
   "id": "e8bbe8f5-ad4f-4bb1-9ac6-04830139ebac",
   "metadata": {},
   "source": [
    "Some generally useful stuff that doesn't really change:"
   ]
  },
  {
   "cell_type": "code",
   "execution_count": 5,
   "id": "93b76a5b-89c6-4723-8041-025d3579c990",
   "metadata": {},
   "outputs": [],
   "source": [
    "n_props = 2\n",
    "\n",
    "solver = z3.Solver()\n",
    "\n",
    "grammar_phon = define_grammar(\n",
    "    n_props, \n",
    "    False\n",
    ")\n",
    "\n",
    "grammar_utt = define_grammar(\n",
    "    n_props, \n",
    "    True\n",
    ")\n",
    "\n",
    "m = BooleanModel(\n",
    "    n_props\n",
    ")"
   ]
  },
  {
   "cell_type": "code",
   "execution_count": 6,
   "id": "a22d6bbb-f0b9-4975-a251-00728ed47d9d",
   "metadata": {},
   "outputs": [],
   "source": [
    "def get_info(s, prob_knows, solver=solver):\n",
    "\n",
    "    qud = ProductQUD(\n",
    "        *m.terms, \n",
    "        solver=solver, \n",
    "        prob_knows=prob_knows\n",
    "    )\n",
    "\n",
    "    phonform = parse(s, grammar_phon)\n",
    "    print(phonform) \n",
    "\n",
    "    possible_meanings, parses_values = find_phonform_possible_structures(\n",
    "        phonform=phonform,                                                   \n",
    "        grammar=grammar_utt,                                                 \n",
    "        qud=qud,                                                             \n",
    "        model=m,                                                         \n",
    "        solver=solver,                                                       \n",
    "        unique=True                                                          \n",
    "    )     \n",
    "\n",
    "    grammar_belief = define_grammar(\n",
    "        n_props=n_props, \n",
    "        EXH=False, \n",
    "        index=len(parses_values)\n",
    "    )\n",
    "\n",
    "    return phonform, possible_meanings, parses_values, grammar_belief, qud\n",
    "    \n",
    "\n",
    "def run_boolean_simulation(\n",
    "        s, prob_knows,\n",
    "        n_props=n_props,\n",
    "        likelihood_temperature=0.1, \n",
    "        prior_temperature=6, \n",
    "        n_steps=1e4):\n",
    "\n",
    "    phonform, possible_meanings, parses_values, grammar_belief, qud = get_info(s, prob_knows)\n",
    "\n",
    "    print('\\npossible meanings: \\n', possible_meanings, '\\n____')\n",
    "    print('possible parses: \\n', parses_values, '\\n____')\n",
    "\n",
    "    \n",
    "    print_possible_parses(                                               \n",
    "        parses_values=parses_values,                                                   \n",
    "        possible_meanings=possible_meanings,                                                   \n",
    "        n_props=n_props,                      \n",
    "        solver=solver                                                               \n",
    "    )         \n",
    "    \n",
    "    tn = infer_meaning(\n",
    "        qud=qud,\n",
    "        model=m,\n",
    "        solver=solver,\n",
    "        grammar_belief=grammar_belief,\n",
    "        possible_meanings=possible_meanings,\n",
    "        likelihood_temperature=likelihood_temperature,\n",
    "        prior_temperature=prior_temperature,\n",
    "        n_steps=n_steps\n",
    "    )\n",
    "\n",
    "\n",
    "    return tn"
   ]
  },
  {
   "cell_type": "markdown",
   "id": "cd229f14-c021-44a4-afdc-5ea7897abf8a",
   "metadata": {},
   "source": [
    "# $p$"
   ]
  },
  {
   "cell_type": "code",
   "execution_count": 7,
   "id": "ece8ed56-2864-4ade-9868-ab85c838e088",
   "metadata": {},
   "outputs": [],
   "source": [
    "s = 'p(i0, M)'"
   ]
  },
  {
   "cell_type": "markdown",
   "id": "a07d7a18-3abe-42ac-aa2a-243234a0a6d5",
   "metadata": {
    "jp-MarkdownHeadingCollapsed": true
   },
   "source": [
    "## High p_know: parse 'p and not q' w/ belief 'p and not q'"
   ]
  },
  {
   "cell_type": "code",
   "execution_count": 8,
   "id": "2eed5257-7793-4aac-87f1-aed053a64082",
   "metadata": {},
   "outputs": [],
   "source": [
    "prob_knows = 0.9"
   ]
  },
  {
   "cell_type": "code",
   "execution_count": 13,
   "id": "59faa336-f1c2-48d6-a329-aacfafffe297",
   "metadata": {},
   "outputs": [
    {
     "name": "stdout",
     "output_type": "stream",
     "text": [
      "p(i0, M)\n",
      "\n",
      "possible meanings: \n",
      " [p0, And(p0, Not(p1))] \n",
      "____\n",
      "possible parses: \n",
      " [p(i0, M), EXH(p(i0, M))] \n",
      "____\n",
      "terms:  [p0, p1] \n",
      "\n",
      "p(i0, M)\n",
      "\t [p0 = True]\n",
      "\t [p1 = True, p0 = True]\n",
      "\n",
      "\n",
      "EXH(p(i0, M))\n",
      "\t [p1 = False, p0 = True]\n",
      "\n",
      "\n",
      "Synonymy table:\n",
      "          0     1\n",
      "    0 True  False\n",
      "    1 False True \n",
      "\n"
     ]
    },
    {
     "name": "stderr",
     "output_type": "stream",
     "text": [
      "100%|██████████████████████████████████████████████████████████████████████| 10000/10000.0 [00:39<00:00, 253.46it/s]\n"
     ]
    }
   ],
   "source": [
    "tn = run_boolean_simulation(s, prob_knows)"
   ]
  },
  {
   "cell_type": "code",
   "execution_count": 274,
   "id": "12815db1-6833-4e8b-952c-2e2e234111c0",
   "metadata": {},
   "outputs": [
    {
     "name": "stderr",
     "output_type": "stream",
     "text": [
      "100%|████████████████████████████████████████████████████████████████████████████████████████████████████████████████████████████████| 965/965 [00:00<00:00, 2888.04it/s]\n"
     ]
    },
    {
     "name": "stdout",
     "output_type": "stream",
     "text": [
      "{(0, Not(p1)): np.float64(6.609010760532878e-51),\n",
      " (0, p0): np.float64(6.825372638012457e-27),\n",
      " (0, And(Implies(Not(And(Not(Not(p1)), Not(p0))), Or(p0, p0)),\n",
      "    Not(p1))): np.float64(4.10199099761285e-31),\n",
      " (1, And(Not(And(Not(p0), Not(p1))), Not(p1))): np.float64(1.0868581218421371e-13)}\n"
     ]
    },
    {
     "data": {
      "image/png": "[encoded data removed]",
      "text/plain": [
       "<Figure size 700x600 with 1 Axes>"
      ]
     },
     "metadata": {},
     "output_type": "display_data"
    }
   ],
   "source": [
    "fig, ax = plot_results(\n",
    "    tn,\n",
    "    solver,\n",
    "    figsize=(7,6)\n",
    ")\n",
    "\n",
    "fig.subplots_adjust(bottom=0.4)\n",
    "fig.savefig(f'figures/pandnotq_pknows={prob_knows}.png', dpi=300)"
   ]
  },
  {
   "cell_type": "markdown",
   "id": "b644d437-2a9f-4d80-ba66-6ab25d7c8640",
   "metadata": {
    "jp-MarkdownHeadingCollapsed": true
   },
   "source": [
    "## Low p_know: utterance 'p' w/ belief 'p' (ignorance implicature wrt q)"
   ]
  },
  {
   "cell_type": "code",
   "execution_count": 74,
   "id": "4e0e7a1e-afe3-4bf3-9613-0c513d6a3781",
   "metadata": {},
   "outputs": [],
   "source": [
    "prob_knows = 0.3"
   ]
  },
  {
   "cell_type": "code",
   "execution_count": 78,
   "id": "2179b350-c6d7-4a6c-ac33-753f067a0c21",
   "metadata": {},
   "outputs": [
    {
     "name": "stdout",
     "output_type": "stream",
     "text": [
      "p(i0, M)\n",
      "\n",
      "possible meanings: \n",
      " [p0, And(p0, Not(p1))] \n",
      "____\n",
      "possible parses: \n",
      " [p(i0, M), EXH(p(i0, M))] \n",
      "____\n",
      "terms:  [p0, p1] \n",
      "\n",
      "p(i0, M)\n",
      "\t [p0 = True]\n",
      "\t [p1 = True, p0 = True]\n",
      "\n",
      "\n",
      "EXH(p(i0, M))\n",
      "\t [p1 = False, p0 = True]\n",
      "\n",
      "\n",
      "Synonymy table:\n",
      "          0     1\n",
      "    0 True  False\n",
      "    1 False True \n",
      "\n"
     ]
    },
    {
     "name": "stderr",
     "output_type": "stream",
     "text": [
      "100%|███████████████████████████████████████████████████████████████████████████████████████████████████████████████████████████| 10000/10000.0 [00:36<00:00, 272.05it/s]\n"
     ]
    }
   ],
   "source": [
    "tn = run_boolean_simulation(s, prob_knows)"
   ]
  },
  {
   "cell_type": "code",
   "execution_count": 161,
   "id": "c3d4b6e1-92ba-430d-9074-bb6ddec4b1ae",
   "metadata": {},
   "outputs": [
    {
     "name": "stderr",
     "output_type": "stream",
     "text": [
      "100%|██████████████████████████████████████████████████████████████████████████████████████████████████████████████████████████████| 1149/1149 [00:00<00:00, 1822.23it/s]\n"
     ]
    },
    {
     "name": "stdout",
     "output_type": "stream",
     "text": [
      "{(0, Not(p1)): np.float64(4.723815371855101e-51),\n",
      " (0, Not(p0)): np.float64(4.723815371855101e-51),\n",
      " (0, Not(Not(p0))): np.float64(3.7792418613632673e-19),\n",
      " (1, Not(p0)): np.float64(1.133282613238798e-50),\n",
      " (1, Not(p1)): np.float64(1.133282613238798e-50)}\n"
     ]
    },
    {
     "data": {
      "image/png": "[encoded data removed]",
      "text/plain": [
       "<Figure size 700x300 with 1 Axes>"
      ]
     },
     "metadata": {},
     "output_type": "display_data"
    }
   ],
   "source": [
    "fig, ax = plot_results(\n",
    "    tn,\n",
    "    solver\n",
    ")\n",
    "# fig.tight_layout()\n",
    "fig.savefig('figures/p_lowpknow.png', dpi=300)"
   ]
  },
  {
   "cell_type": "markdown",
   "id": "ba497331-4eb2-447d-921d-7f20b30244f9",
   "metadata": {
    "jp-MarkdownHeadingCollapsed": true
   },
   "source": [
    "# $\\neg p$"
   ]
  },
  {
   "cell_type": "code",
   "execution_count": 275,
   "id": "b0cc9184-327d-4e7d-bd56-ab8178610f56",
   "metadata": {},
   "outputs": [],
   "source": [
    "s = 'lnot(p(i0, M))'"
   ]
  },
  {
   "cell_type": "markdown",
   "id": "3f58fa68-b4d0-4003-ab7c-54eb0a0a359e",
   "metadata": {
    "jp-MarkdownHeadingCollapsed": true
   },
   "source": [
    "## Low p_know"
   ]
  },
  {
   "cell_type": "code",
   "execution_count": 276,
   "id": "5c758499-c077-41c0-a65e-d033325cc224",
   "metadata": {},
   "outputs": [],
   "source": [
    "prob_knows = 0.1"
   ]
  },
  {
   "cell_type": "code",
   "execution_count": 277,
   "id": "03cf8c54-e3c2-4553-abc5-d39218205418",
   "metadata": {},
   "outputs": [
    {
     "name": "stdout",
     "output_type": "stream",
     "text": [
      "lnot(p(i0, M))\n",
      "\n",
      "possible meanings: \n",
      " [Not(p0), Not(And(p0, Not(p1)))] \n",
      "____\n",
      "possible parses: \n",
      " [lnot(p(i0, M)), lnot(EXH(p(i0, M)))] \n",
      "____\n",
      "terms:  [p0, p1] \n",
      "\n",
      "lnot(p(i0, M))\n",
      "\t [p0 = False]\n",
      "\t [p1 = True, p0 = False]\n",
      "\n",
      "\n",
      "lnot(EXH(p(i0, M)))\n",
      "\t [p1 = False, p0 = False]\n",
      "\t [p1 = True, p0 = True]\n",
      "\t [p1 = True, p0 = False]\n",
      "\n",
      "\n",
      "Synonymy table:\n",
      "          0     1\n",
      "    0 True  False\n",
      "    1 False True \n",
      "\n"
     ]
    },
    {
     "name": "stderr",
     "output_type": "stream",
     "text": [
      "100%|███████████████████████████████████████████████████████████████████████████████████████████████████████████████████████████| 10000/10000.0 [00:40<00:00, 249.60it/s]\n"
     ]
    }
   ],
   "source": [
    "tn = run_boolean_simulation(s, prob_knows)"
   ]
  },
  {
   "cell_type": "code",
   "execution_count": 179,
   "id": "039df042-036c-41e2-a2bb-9699c9607fa2",
   "metadata": {},
   "outputs": [
    {
     "name": "stderr",
     "output_type": "stream",
     "text": [
      "100%|████████████████████████████████████████████████████████████████████████████████████████████████████████████████████████████████| 956/956 [00:00<00:00, 1682.79it/s]\n"
     ]
    },
    {
     "name": "stdout",
     "output_type": "stream",
     "text": [
      "{(0, Not(p0)): np.float64(6.675849577230677e-27),\n",
      " (1, Implies(Not(p0), And(Not(p1), Not(p1)))): np.float64(1.4747631901827688e-51),\n",
      " (1, Implies(Not(p0), p0)): np.float64(3.121974662478175e-51),\n",
      " (1, Not(p0)): np.float64(2.060751139395924e-36),\n",
      " (1, Or(p1, Not(p0))): np.float64(3.826887572182978e-14)}\n"
     ]
    },
    {
     "data": {
      "image/png": "[encoded data removed]",
      "text/plain": [
       "<Figure size 700x300 with 1 Axes>"
      ]
     },
     "metadata": {},
     "output_type": "display_data"
    }
   ],
   "source": [
    "fig, ax = plot_results(\n",
    "    tn,\n",
    "    solver\n",
    ")\n",
    "fig.tight_layout()\n",
    "fig.savefig(f'figures/notp_pknow={prob_knows}.png', dpi=300)"
   ]
  },
  {
   "cell_type": "markdown",
   "id": "a8d3ad4d-7048-438b-af09-d09eae0757b8",
   "metadata": {
    "jp-MarkdownHeadingCollapsed": true
   },
   "source": [
    "## High p_know"
   ]
  },
  {
   "cell_type": "code",
   "execution_count": 163,
   "id": "2d0eba41-95f8-4802-b433-a187f3f2e4db",
   "metadata": {},
   "outputs": [],
   "source": [
    "prob_knows = 0.9"
   ]
  },
  {
   "cell_type": "code",
   "execution_count": 164,
   "id": "d69818b0-1459-4e9e-8bd1-1137403e6d7c",
   "metadata": {},
   "outputs": [
    {
     "name": "stdout",
     "output_type": "stream",
     "text": [
      "lnot(p(i0, M))\n",
      "\n",
      "possible meanings: \n",
      " [Not(p0), Not(And(p0, Not(p1)))] \n",
      "____\n",
      "possible parses: \n",
      " [lnot(p(i0, M)), lnot(EXH(p(i0, M)))] \n",
      "____\n",
      "terms:  [p0, p1] \n",
      "\n",
      "lnot(p(i0, M))\n",
      "\t [p0 = False]\n",
      "\t [p1 = True, p0 = False]\n",
      "\n",
      "\n",
      "lnot(EXH(p(i0, M)))\n",
      "\t [p1 = False, p0 = False]\n",
      "\t [p1 = True, p0 = True]\n",
      "\t [p1 = True, p0 = False]\n",
      "\n",
      "\n",
      "Synonymy table:\n",
      "          0     1\n",
      "    0 True  False\n",
      "    1 False True \n",
      "\n"
     ]
    },
    {
     "name": "stderr",
     "output_type": "stream",
     "text": [
      "100%|███████████████████████████████████████████████████████████████████████████████████████████████████████████████████████████| 10000/10000.0 [01:05<00:00, 151.54it/s]\n"
     ]
    }
   ],
   "source": [
    "tn = run_boolean_simulation(s, prob_knows)"
   ]
  },
  {
   "cell_type": "code",
   "execution_count": 185,
   "id": "143a5eac-439a-4c15-b57a-6531b49b492a",
   "metadata": {},
   "outputs": [
    {
     "name": "stderr",
     "output_type": "stream",
     "text": [
      "100%|████████████████████████████████████████████████████████████████████████████████████████████████████████████████████████████████| 956/956 [00:00<00:00, 2437.68it/s]\n"
     ]
    },
    {
     "name": "stdout",
     "output_type": "stream",
     "text": [
      "{(0, Not(p0)): np.float64(6.675849577230677e-27),\n",
      " (1, Implies(Not(p0), And(Not(p1), Not(p1)))): np.float64(1.4747631901827688e-51),\n",
      " (1, Or(p1, Not(p0))): np.float64(3.826887572182978e-14),\n",
      " (1, Not(p0)): np.float64(2.060751139395924e-36),\n",
      " (1, Implies(Not(p0), p0)): np.float64(3.121974662478175e-51)}\n"
     ]
    },
    {
     "data": {
      "image/png": "[encoded data removed]",
      "text/plain": [
       "<Figure size 700x300 with 1 Axes>"
      ]
     },
     "metadata": {},
     "output_type": "display_data"
    }
   ],
   "source": [
    "fig, ax = plot_results(\n",
    "    tn,\n",
    "    solver\n",
    ")\n",
    "fig.tight_layout()\n",
    "fig.savefig('figures/notp_pknow=0.9.png', dpi=300)"
   ]
  },
  {
   "cell_type": "markdown",
   "id": "ffcf8ab9-1f28-4aba-b863-aecbaa6b4fb6",
   "metadata": {
    "jp-MarkdownHeadingCollapsed": true
   },
   "source": [
    "# $p \\lor q$"
   ]
  },
  {
   "cell_type": "code",
   "execution_count": 278,
   "id": "0d04f75f-d248-4af8-a32f-50e98952034c",
   "metadata": {},
   "outputs": [],
   "source": [
    "s = 'lor( p(i0, M), p(i1, M) )'"
   ]
  },
  {
   "cell_type": "markdown",
   "id": "50d48fe2-8b73-4b05-a987-49c569841997",
   "metadata": {
    "jp-MarkdownHeadingCollapsed": true
   },
   "source": [
    "## High p_know: utterance $EXH(p \\lor q)$ w/ belief $(p \\lor q) \\land \\neg(p \\land q)$"
   ]
  },
  {
   "cell_type": "code",
   "execution_count": 279,
   "id": "77d3aa9a-838e-47ce-a965-0c5c6949b29d",
   "metadata": {},
   "outputs": [],
   "source": [
    "prob_knows = 0.9"
   ]
  },
  {
   "cell_type": "code",
   "execution_count": 280,
   "id": "e2330c1b-1c35-401e-89a8-48903107258d",
   "metadata": {},
   "outputs": [
    {
     "name": "stdout",
     "output_type": "stream",
     "text": [
      "lor(p(i0, M), p(i1, M))\n",
      "\n",
      "possible meanings: \n",
      " [Or(p0, p1), And(Or(p0, p1), Not(And(p1, p0)), Not(And(p0, p1)))] \n",
      "____\n",
      "possible parses: \n",
      " [lor(p(i0, M), p(i1, M)), EXH(lor(p(i0, M), p(i1, M)))] \n",
      "____\n",
      "terms:  [p0, p1] \n",
      "\n",
      "lor(p(i0, M), p(i1, M))\n",
      "\t [p1 = True, p0 = False]\n",
      "\t [p1 = True, p0 = True]\n",
      "\t [p1 = False, p0 = True]\n",
      "\n",
      "\n",
      "EXH(lor(p(i0, M), p(i1, M)))\n",
      "\t [p1 = True, p0 = False]\n",
      "\t [p1 = False, p0 = True]\n",
      "\n",
      "\n",
      "Synonymy table:\n",
      "          0     1\n",
      "    0 True  False\n",
      "    1 False True \n",
      "\n"
     ]
    },
    {
     "name": "stderr",
     "output_type": "stream",
     "text": [
      "100%|███████████████████████████████████████████████████████████████████████████████████████████████████████████████████████████| 50000/50000.0 [03:29<00:00, 238.46it/s]\n"
     ]
    }
   ],
   "source": [
    "tn = run_boolean_simulation(s, prob_knows, n_steps=5*1e4)"
   ]
  },
  {
   "cell_type": "code",
   "execution_count": 281,
   "id": "c45a9ae9-a63f-4be4-8c3a-ccd745b0202a",
   "metadata": {},
   "outputs": [
    {
     "name": "stderr",
     "output_type": "stream",
     "text": [
      "100%|██████████████████████████████████████████████████████████████████████████████████████████████████████████████████████████████| 3315/3315 [00:02<00:00, 1645.07it/s]\n"
     ]
    },
    {
     "name": "stdout",
     "output_type": "stream",
     "text": [
      "{(0, p0): np.float64(1.305676718018509e-36),\n",
      " (0, p1): np.float64(1.701926079842842e-36),\n",
      " (0, Or(p1, p0)): np.float64(5.874592294414039e-33),\n",
      " (1, And(Not(Implies(Not(p1), p1)), p0)): np.float64(1.1611465607609158e-28),\n",
      " (1, And(Not(And(p0, p1)), Or(p1, p0))): np.float64(5.862822444132248e-27),\n",
      " (1, And(p1, Implies(Not(Not(p1)), Not(p0)))): np.float64(1.1085182007848135e-28)}\n"
     ]
    },
    {
     "data": {
      "image/png": "[encoded data removed]",
      "text/plain": [
       "<Figure size 700x600 with 1 Axes>"
      ]
     },
     "metadata": {},
     "output_type": "display_data"
    }
   ],
   "source": [
    "fig, ax = plot_results(\n",
    "    tn,\n",
    "    solver,\n",
    "    figsize=(7,6)\n",
    ")\n",
    "\n",
    "fig.subplots_adjust(bottom=0.4)\n",
    "fig.savefig(f'figures/porq_pknows={prob_knows}.png', dpi=300)"
   ]
  },
  {
   "cell_type": "markdown",
   "id": "f7354831-7a38-4ab8-9bcc-3618f661b0f7",
   "metadata": {
    "jp-MarkdownHeadingCollapsed": true
   },
   "source": [
    "### Enumerative approximation"
   ]
  },
  {
   "cell_type": "code",
   "execution_count": 26,
   "id": "a370d33d-ebd8-4cd7-a3f4-5a633d0d8b33",
   "metadata": {},
   "outputs": [
    {
     "name": "stdout",
     "output_type": "stream",
     "text": [
      "lor(p(i0, M), p(i1, M))\n",
      "terms:  [p0, p1] \n",
      "\n",
      "lor(p(i0, M), p(i1, M))\n",
      "\t [p1 = True, p0 = False]\n",
      "\t [p1 = True, p0 = True]\n",
      "\t [p1 = False, p0 = True]\n",
      "\n",
      "\n",
      "EXH(lor(p(i0, M), p(i1, M)))\n",
      "\t [p1 = True, p0 = False]\n",
      "\t [p1 = False, p0 = True]\n",
      "\n",
      "\n",
      "Synonymy table:\n",
      "          0     1\n",
      "    0 True  False\n",
      "    1 False True \n",
      "\n"
     ]
    }
   ],
   "source": [
    "qud = ProductQUD(\n",
    "    *m.terms, \n",
    "    solver=solver, \n",
    "    prob_knows=prob_knows\n",
    ")\n",
    "\n",
    "phonform = parse(s, grammar_phon)\n",
    "\n",
    "print(phonform)\n",
    "\n",
    "possible_meanings, parses_values = find_phonform_possible_structures(\n",
    "    phonform=phonform,\n",
    "    grammar=grammar_utt,\n",
    "    qud=qud,\n",
    "    model=m,\n",
    "    solver=solver,\n",
    "    unique=True     \n",
    ")      \n",
    "\n",
    "print_possible_parses(\n",
    "    parses_values=parses_values,\n",
    "    possible_meanings=possible_meanings,\n",
    "    n_props=n_props,\n",
    "    solver=solver\n",
    ")\n",
    "\n",
    "grammar_belief = define_grammar(\n",
    "    n_props=n_props,\n",
    "    EXH=False, \n",
    "    index=len(parses_values)\n",
    ")"
   ]
  },
  {
   "cell_type": "code",
   "execution_count": 27,
   "id": "b8d55b5f-e1d2-437b-a2a3-1b38679c3203",
   "metadata": {},
   "outputs": [],
   "source": [
    "possible_hypotheses = list(grammar_belief.enumerate(5))"
   ]
  },
  {
   "cell_type": "code",
   "execution_count": 28,
   "id": "a793f521-3f01-481b-a209-b68f7cc2fe48",
   "metadata": {},
   "outputs": [
    {
     "data": {
      "text/plain": [
       "18936"
      ]
     },
     "execution_count": 28,
     "metadata": {},
     "output_type": "execute_result"
    }
   ],
   "source": [
    "len(possible_hypotheses)"
   ]
  },
  {
   "cell_type": "code",
   "execution_count": 29,
   "id": "71456146-15f3-4072-b528-ad17582cd164",
   "metadata": {},
   "outputs": [
    {
     "name": "stdout",
     "output_type": "stream",
     "text": [
      "terms:  [p0, p1] \n",
      "\n",
      "lor(p(i0, M), p(i1, M))\n",
      "\t [p1 = True, p0 = False]\n",
      "\t [p1 = True, p0 = True]\n",
      "\t [p1 = False, p0 = True]\n",
      "\n",
      "\n",
      "EXH(lor(p(i0, M), p(i1, M)))\n",
      "\t [p1 = True, p0 = False]\n",
      "\t [p1 = False, p0 = True]\n",
      "\n",
      "\n",
      "Synonymy table:\n",
      "          0     1\n",
      "    0 True  False\n",
      "    1 False True \n",
      "\n"
     ]
    },
    {
     "name": "stderr",
     "output_type": "stream",
     "text": [
      "100%|█████████████████████████████████████████████████████████████████████████████████████████████████████████████████████████████| 18936/18936 [00:33<00:00, 560.62it/s]\n"
     ]
    }
   ],
   "source": [
    "posterior_scores = analyse_specific_hyps(\n",
    "    s=s,\n",
    "    hypotheses=possible_hypotheses,\n",
    "    n_props=2,\n",
    "    grammar_phon=grammar_phon,\n",
    "    grammar_belief=grammar_belief,\n",
    "    model=m,\n",
    "    solver=solver,\n",
    "    qud=qud,\n",
    "    temp=3,\n",
    "    likelihood_temperature=0.1,\n",
    "    prior_temperature=6,\n",
    "    print_log=False\n",
    ")"
   ]
  },
  {
   "cell_type": "code",
   "execution_count": 30,
   "id": "c4c3a23a-1053-4df2-b2f6-759df1e85607",
   "metadata": {},
   "outputs": [
    {
     "name": "stderr",
     "output_type": "stream",
     "text": [
      "  8%|█████████▉                                                                                                                   | 1500/18936 [00:00<00:08, 1979.79it/s]\n"
     ]
    },
    {
     "name": "stdout",
     "output_type": "stream",
     "text": [
      "{(0, And(Not(p1), p0)): np.float64(1.5003439863492586e-27),\n",
      " (0, And(Not(p0), p1)): np.float64(1.6686423284428027e-27),\n",
      " (0, And(p0, p1)): np.float64(1.6822881399639013e-27),\n",
      " (1, And(Not(p1), p0)): np.float64(3.522353193233123e-22),\n",
      " (1, Or(Not(Or(p1, Not(p0))), And(Not(p0), p1))): np.float64(4.523280359512848e-27),\n",
      " (1, And(Not(p0), p1)): np.float64(3.522353193233123e-22)}\n"
     ]
    },
    {
     "data": {
      "image/png": "[encoded data removed]",
      "text/plain": [
       "<Figure size 640x480 with 1 Axes>"
      ]
     },
     "metadata": {},
     "output_type": "display_data"
    }
   ],
   "source": [
    "plot_results(posterior_scores, solver=solver, dict_type='scores', first_n=1500)"
   ]
  },
  {
   "cell_type": "markdown",
   "id": "c1dd458a-274b-4631-86ea-a80c37953696",
   "metadata": {
    "jp-MarkdownHeadingCollapsed": true
   },
   "source": [
    "### Specific likelihoods"
   ]
  },
  {
   "cell_type": "code",
   "execution_count": 22,
   "id": "74dca77c-66db-41c4-b03b-65254c5f7f3e",
   "metadata": {},
   "outputs": [],
   "source": [
    "hypotheses = [\n",
    "    'tuple_(u0, p(i0, M))',\n",
    "    'tuple_(u0, (p(i1, M))',\n",
    "    'tuple_(u0, lor(p(i0, M),p(i1, M))',\n",
    "    'tuple_(u1, land(p(i0, M), lnot(p(i1, M)))',\n",
    "    'tuple_(u1, land(lor(p(i0, M), p(i1, M)), lnot(land(p(i0, M), p(i1, M))))'\n",
    "]"
   ]
  },
  {
   "cell_type": "code",
   "execution_count": 23,
   "id": "5ed9e481-07ec-49d6-a57e-0fb50ef11ad6",
   "metadata": {},
   "outputs": [
    {
     "name": "stdout",
     "output_type": "stream",
     "text": [
      "lor(p(i0, M), p(i1, M))\n",
      "terms:  [p0, p1] \n",
      "\n",
      "lor(p(i0, M), p(i1, M))\n",
      "\t [p1 = True, p0 = False]\n",
      "\t [p1 = True, p0 = True]\n",
      "\t [p1 = False, p0 = True]\n",
      "\n",
      "\n",
      "EXH(lor(p(i0, M), p(i1, M)))\n",
      "\t [p1 = True, p0 = False]\n",
      "\t [p1 = False, p0 = True]\n",
      "\n",
      "\n",
      "Synonymy table:\n",
      "          0     1\n",
      "    0 True  False\n",
      "    1 False True \n",
      "\n"
     ]
    }
   ],
   "source": [
    "qud = ProductQUD(\n",
    "    *m.terms, \n",
    "    solver=solver, \n",
    "    prob_knows=prob_knows\n",
    ")\n",
    "\n",
    "phonform = parse(s, grammar_phon)\n",
    "\n",
    "print(phonform)\n",
    "\n",
    "possible_meanings, parses_values = find_phonform_possible_structures(\n",
    "    phonform=phonform,\n",
    "    grammar=grammar_utt,\n",
    "    qud=qud,\n",
    "    model=m,\n",
    "    solver=solver,\n",
    "    unique=True\n",
    ")      \n",
    "\n",
    "print_possible_parses(\n",
    "    parses_values=parses_values,\n",
    "    possible_meanings=possible_meanings,\n",
    "    n_props=n_props,\n",
    "    solver=solver\n",
    ")\n",
    "\n",
    "grammar_belief = define_grammar(\n",
    "    n_props=n_props,\n",
    "    EXH=False, \n",
    "    index=len(parses_values)\n",
    ")"
   ]
  },
  {
   "cell_type": "code",
   "execution_count": 24,
   "id": "e44b557d-31fc-4940-b17a-28898601bebc",
   "metadata": {},
   "outputs": [
    {
     "name": "stdout",
     "output_type": "stream",
     "text": [
      "terms:  [p0, p1] \n",
      "\n",
      "lor(p(i0, M), p(i1, M))\n",
      "\t [p1 = True, p0 = False]\n",
      "\t [p1 = True, p0 = True]\n",
      "\t [p1 = False, p0 = True]\n",
      "\n",
      "\n",
      "EXH(lor(p(i0, M), p(i1, M)))\n",
      "\t [p1 = True, p0 = False]\n",
      "\t [p1 = False, p0 = True]\n",
      "\n",
      "\n",
      "Synonymy table:\n",
      "          0     1\n",
      "    0 True  False\n",
      "    1 False True \n",
      "\n"
     ]
    },
    {
     "name": "stderr",
     "output_type": "stream",
     "text": [
      "100%|█████████████████████████████████████████████████████████████████████████████████████████████████████████████████████████████████████| 5/5 [00:00<00:00, 259.33it/s]"
     ]
    },
    {
     "name": "stdout",
     "output_type": "stream",
     "text": [
      "\n",
      "----------\n",
      "hyp:  lambda M: tuple_(u0, p(i0, M))\n",
      "qud:  <QUD.ProductQUD object at 0x7fcfc0c6d7f0>\n",
      "util: -0.4054651081081645\n",
      "exp KL:  0.1316872427983538\n",
      "prob belief:  0.002024999999999999\n",
      "total lik:  0.00026666666666666635\n",
      "\n",
      "----------\n",
      "hyp:  lambda M: tuple_(u0, p(i1, M))\n",
      "qud:  <QUD.ProductQUD object at 0x7fcfc0c6d7f0>\n",
      "util: -0.4054651081081645\n",
      "exp KL:  0.1316872427983538\n",
      "prob belief:  0.002024999999999999\n",
      "total lik:  0.00026666666666666635\n",
      "\n",
      "----------\n",
      "hyp:  lambda M: tuple_(u0, lor(p(i0, M), p(i1, M)))\n",
      "qud:  <QUD.ProductQUD object at 0x7fcfc0c6d7f0>\n",
      "util: -0.0\n",
      "exp KL:  1.0\n",
      "prob belief:  0.0004499999999999997\n",
      "total lik:  0.0004499999999999997\n",
      "\n",
      "----------\n",
      "hyp:  lambda M: tuple_(u1, land(p(i0, M), lnot(p(i1, M))))\n",
      "qud:  <QUD.ProductQUD object at 0x7fcfc0c6d7f0>\n",
      "util: -0.6931471805599453\n",
      "exp KL:  0.03125\n",
      "prob belief:  0.04100625\n",
      "total lik:  0.0012814453125\n",
      "\n",
      "----------\n",
      "hyp:  lambda M: tuple_(u1, land(lor(p(i0, M), p(i1, M)), lnot(land(p(i0, M), p(i1, M)))))\n",
      "qud:  <QUD.ProductQUD object at 0x7fcfc0c6d7f0>\n",
      "util: -0.0\n",
      "exp KL:  1.0\n",
      "prob belief:  0.002024999999999999\n",
      "total lik:  0.002024999999999999\n"
     ]
    },
    {
     "name": "stderr",
     "output_type": "stream",
     "text": [
      "\n"
     ]
    }
   ],
   "source": [
    "posterior_scores = analyse_specific_hyps(\n",
    "    s, \n",
    "    hypotheses, \n",
    "    n_props, \n",
    "    grammar_phon, \n",
    "    grammar_belief=grammar_belief,\n",
    "    model=m,\n",
    "    solver=solver,\n",
    "    qud=qud,\n",
    "    # hypothesis kwargs\n",
    "    temp=5,\n",
    "    likelihood_temperature=0.1,\n",
    "    prior_temperature=6,\n",
    ")"
   ]
  },
  {
   "cell_type": "code",
   "execution_count": 25,
   "id": "73699116-f119-494a-bc3c-62e92ce42b5c",
   "metadata": {},
   "outputs": [
    {
     "name": "stderr",
     "output_type": "stream",
     "text": [
      "100%|████████████████████████████████████████████████████████████████████████████████████████████████████████████████████████████████████| 5/5 [00:00<00:00, 1108.37it/s]"
     ]
    },
    {
     "name": "stdout",
     "output_type": "stream",
     "text": [
      "{(0, p1): np.float64(1.2017767056466822e-36),\n",
      " (0, p0): np.float64(1.2017767056466822e-36),\n",
      " (0, Or(p0, p1)): np.float64(1.0630520072208568e-34),\n",
      " (1, And(p0, Not(p1))): np.float64(2.6643213075208487e-30),\n",
      " (1, And(Or(p0, p1), Not(And(p0, p1)))): np.float64(5.773270892595906e-29)}\n"
     ]
    },
    {
     "name": "stderr",
     "output_type": "stream",
     "text": [
      "\n"
     ]
    },
    {
     "data": {
      "image/png": "[encoded data removed]",
      "text/plain": [
       "<Figure size 640x480 with 1 Axes>"
      ]
     },
     "metadata": {},
     "output_type": "display_data"
    }
   ],
   "source": [
    "plot_results(posterior_scores, solver=solver, dict_type='scores', first_n=1500)"
   ]
  },
  {
   "cell_type": "markdown",
   "id": "498ed2ad-dd86-453f-a48b-5728082bb882",
   "metadata": {
    "jp-MarkdownHeadingCollapsed": true
   },
   "source": [
    "## Low p_know: utterance $p \\lor q$ w/ belief $p \\lor q$"
   ]
  },
  {
   "cell_type": "code",
   "execution_count": 282,
   "id": "58ff1e38-525c-4ef3-bc7a-d98e73e97ec6",
   "metadata": {},
   "outputs": [],
   "source": [
    "prob_knows = 0.1"
   ]
  },
  {
   "cell_type": "code",
   "execution_count": 283,
   "id": "4183ca45-f32c-46ed-98d5-e35fa8511060",
   "metadata": {},
   "outputs": [
    {
     "name": "stdout",
     "output_type": "stream",
     "text": [
      "lor(p(i0, M), p(i1, M))\n",
      "\n",
      "possible meanings: \n",
      " [Or(p0, p1), And(Or(p0, p1), Not(And(p1, p0)), Not(And(p0, p1)))] \n",
      "____\n",
      "possible parses: \n",
      " [lor(p(i0, M), p(i1, M)), EXH(lor(p(i0, M), p(i1, M)))] \n",
      "____\n",
      "terms:  [p0, p1] \n",
      "\n",
      "lor(p(i0, M), p(i1, M))\n",
      "\t [p1 = True, p0 = False]\n",
      "\t [p1 = True, p0 = True]\n",
      "\t [p1 = False, p0 = True]\n",
      "\n",
      "\n",
      "EXH(lor(p(i0, M), p(i1, M)))\n",
      "\t [p1 = True, p0 = False]\n",
      "\t [p1 = False, p0 = True]\n",
      "\n",
      "\n",
      "Synonymy table:\n",
      "          0     1\n",
      "    0 True  False\n",
      "    1 False True \n",
      "\n"
     ]
    },
    {
     "name": "stderr",
     "output_type": "stream",
     "text": [
      "100%|███████████████████████████████████████████████████████████████████████████████████████████████████████████████████████████| 10000/10000.0 [00:44<00:00, 226.14it/s]\n"
     ]
    }
   ],
   "source": [
    "tn = run_boolean_simulation(s, prob_knows)"
   ]
  },
  {
   "cell_type": "code",
   "execution_count": 284,
   "id": "65ece590-b26c-4a79-b1c0-520125f93735",
   "metadata": {},
   "outputs": [
    {
     "name": "stderr",
     "output_type": "stream",
     "text": [
      "100%|████████████████████████████████████████████████████████████████████████████████████████████████████████████████████████████████| 827/827 [00:00<00:00, 2828.76it/s]\n"
     ]
    },
    {
     "name": "stdout",
     "output_type": "stream",
     "text": [
      "{(0, And(And(Not(And(Not(p1), p1)), Implies(Not(p0), Not(p0))),\n",
      "    p0)): np.float64(2.7388679911395703e-37),\n",
      " (0, And(And(Not(And(Not(p1), Not(p0))), Implies(Not(p0), p1)),\n",
      "    p1)): np.float64(7.685992920933448e-37),\n",
      " (0, And(And(Not(And(Not(p0), p1)), Implies(Not(p0), Not(p0))),\n",
      "    Not(p1))): np.float64(5.043619164513478e-52),\n",
      " (0, Or(p0, p1)): np.float64(4.0369458395898295e-14),\n",
      " (0, And(And(Not(And(p1, p0)), Implies(Not(p1), Not(p0))),\n",
      "    Not(p1))): np.float64(5.043619164513478e-52),\n",
      " (0, And(And(Not(And(Not(p1), p1)), Implies(Not(p0), Not(p0))),\n",
      "    Not(p0))): np.float64(5.043619164513478e-52),\n",
      " (1, Not(p0)): np.float64(6.777131399349993e-51),\n",
      " (1, And(And(Not(p0), Implies(Not(p1), Not(p1))), p0)): np.float64(2.7866036111794266e-51),\n",
      " (1, p1): np.float64(8.002312566122591e-51),\n",
      " (1, And(And(p0, Implies(Not(p1), Not(p1))), p0)): np.float64(9.318656653425372e-52),\n",
      " (1, And(And(Not(And(p1, p1)), Implies(Not(p1), Not(p0))),\n",
      "    Not(p0))): np.float64(1.0087238329026955e-51),\n",
      " (1, And(And(p1, Implies(Not(p0), Not(p1))), p1)): np.float64(1.6285165681373938e-51)}\n"
     ]
    },
    {
     "data": {
      "image/png": "[encoded data removed]",
      "text/plain": [
       "<Figure size 700x600 with 1 Axes>"
      ]
     },
     "metadata": {},
     "output_type": "display_data"
    }
   ],
   "source": [
    "fig, ax = plot_results(\n",
    "    tn,\n",
    "    solver,\n",
    "    figsize=(7,6)\n",
    ")\n",
    "\n",
    "fig.subplots_adjust(bottom=0.4)\n",
    "fig.savefig(f'figures/porq_pknows={prob_knows}.png', dpi=300)"
   ]
  },
  {
   "cell_type": "markdown",
   "id": "0dbaff0a-5c08-41fd-9432-dbdd2eb1aba1",
   "metadata": {},
   "source": [
    "Low range of P(knows):\n",
    "- P(knows) $< 0.10$: best is belief state 'p or q'\n",
    "- The following two have the same _likelihood_:\n",
    "    - Belief \"p or q\" under utterance \"p or q\"\n",
    "    - Belief \"(p or q) and not(p and q)\" under utterance \"EXH(p or q)\".\n",
    "- Because they are equivalent wrt the two components of the likelihood:\n",
    "    - They fully convey the respective beliefs (KL=0) \n",
    "    - They imply neither p nor q.\n",
    "- However, 'p or q' \"wins\" because it has a higher prior probability.\n",
    "- Correct prediction: If the p(know each prop) is low, bare 'p or q' (but doesn't know which) is a plausible interpretation.\n",
    "\n",
    "Mid range of P(knows)\n",
    "- P(knows) $(0.10,0.95)$: best are 'p', 'q'\n",
    "- Desired but unrealized prediction:\n",
    "    - For the mid range of p(know each prop) the \"(p or q) and not(p and q)\" interpretation should become most likely\n",
    "        - This is an ignorance implicature meaning: \"Exactly one is true, but I don't know which one\"\n",
    "    - The 'full knowledge' interpretations ('p and not q', 'q and not p') would be too strange to be right\n",
    "        - These are: 'p and not q' and 'not p and q' under the utterance 'EXH(p or q)'\n",
    "        - What is strange for real speakers about the 'full knowledge' interpretations given phonform 'p or q'?\n",
    "            - If belief state was 'p and not q', they would not say 'EXH(p or q)', because 'EXH(p or q)' leaves a false state open (namely, p=False and q=True).\n",
    "    - The 'partial beliefs' interpretations ('p' and 'q', under utterance 'p or q') _should_ be implausible for this mid range\n",
    "        - If belief state was 'p', the speaker would just convey 'p'.\n",
    "        - Saying 'p or q' leaves a false state open (p=False, q=True).\n",
    "- The core of the problem:\n",
    "    - Belief state \"(p or q) and not(p and q)\" has the same prob as \"p or q\"\n",
    "    - But the former might be more probable in context! For instance if I expect the speaker to have at least some information.\n",
    "    - This suggests a more sophisticated encoding for the listener's prior over belief states.\n",
    "    - At the moment, this is just $\\prod_i P(k_i)$, with $\\forall i k_i = \\beta$\n",
    "    - I want instead a prior where _excluding_ some possibilities gives a higher probability.\n",
    "\n",
    "Very high range of P(knows):\n",
    "- P(knows) $> 0.95$: best are 'p and not q', 'q and not p' under utterance 'EXH(p or q)'\n",
    "- Correct prediction: If the p(know each prop) is high enough, 'p or q' is interpreted as the speaker knowing that only one is true, but not saying which one.\n",
    "- This means \"Exactly one is true, but I'm not telling you which\""
   ]
  },
  {
   "cell_type": "markdown",
   "id": "bf4677ed-bf6f-4b45-af57-3dbfbbc0b3e3",
   "metadata": {
    "jp-MarkdownHeadingCollapsed": true
   },
   "source": [
    "# $p \\lor (p \\land q)$"
   ]
  },
  {
   "cell_type": "markdown",
   "id": "adf8db6d-c678-43b1-a49b-485a0e7fe2b4",
   "metadata": {
    "jp-MarkdownHeadingCollapsed": true
   },
   "source": [
    "## Parse $(p \\land \\neg q) \\lor (p \\land q)$ w/ belief $p$"
   ]
  },
  {
   "cell_type": "markdown",
   "id": "9d83e69d-1ddb-4f62-a61d-7882a2ea7162",
   "metadata": {},
   "source": [
    "I expect all the probability to be concentrated on \"p\", with the parse \"EXH(p) or (p and q)\""
   ]
  },
  {
   "cell_type": "code",
   "execution_count": 285,
   "id": "6d2b2ff9-ba83-4423-829c-4589a971767d",
   "metadata": {},
   "outputs": [],
   "source": [
    "s = 'lor(p(i0, M), land(p(i1, M), p(i0, M)))'\n",
    "prob_knows = 0.8"
   ]
  },
  {
   "cell_type": "code",
   "execution_count": 288,
   "id": "5e46e46a-7bd9-4847-a914-88a88140f6d8",
   "metadata": {},
   "outputs": [
    {
     "name": "stdout",
     "output_type": "stream",
     "text": [
      "lor(p(i0, M), land(p(i1, M), p(i0, M)))\n",
      "lor(p(i0, M), land(p(i1, M), p(i0, M))) has been excluded because failed hurford!\n",
      "EXH(lor(p(i0, M), land(p(i1, M), p(i0, M)))) has been excluded because failed hurford!\n",
      "lor(p(i0, M), EXH(land(p(i1, M), p(i0, M)))) has been excluded because failed hurford!\n",
      "lor(p(i0, M), land(EXH(p(i1, M)), p(i0, M))) has been excluded because failed hurford!\n",
      "lor(p(i0, M), land(p(i1, M), EXH(p(i0, M)))) has been excluded because failed hurford!\n",
      "\n",
      "possible meanings: \n",
      " [Or(And(p0, Not(p1)), And(p1, p0))] \n",
      "____\n",
      "possible parses: \n",
      " [lor(EXH(p(i0, M)), land(p(i1, M), p(i0, M)))] \n",
      "____\n",
      "terms:  [p0, p1] \n",
      "\n",
      "lor(EXH(p(i0, M)), land(p(i1, M), p(i0, M)))\n",
      "\t [p1 = False, p0 = True]\n",
      "\t [p1 = True, p0 = True]\n",
      "\n",
      "\n",
      "Synonymy table:\n",
      "          0\n",
      "    0 True \n",
      "\n"
     ]
    },
    {
     "name": "stderr",
     "output_type": "stream",
     "text": [
      "100%|█████████████████████████████████████████████████████████████████████████████████████████████████████████████████████████| 100000/100000.0 [06:33<00:00, 254.22it/s]\n"
     ]
    }
   ],
   "source": [
    "tn = run_boolean_simulation(s, prob_knows,n_steps=1e5)"
   ]
  },
  {
   "cell_type": "code",
   "execution_count": 289,
   "id": "fc2be3e8-fbf6-41ad-b8f9-292901eeb079",
   "metadata": {},
   "outputs": [
    {
     "name": "stderr",
     "output_type": "stream",
     "text": [
      "100%|████████████████████████████████████████████████████████████████████████████████████████████████████████████████████████████| 11811/11811 [00:03<00:00, 3188.24it/s]\n"
     ]
    },
    {
     "name": "stdout",
     "output_type": "stream",
     "text": [
      "{(0, Not(p0)): np.float64(7.418363755566424e-51),\n",
      " (0, p1): np.float64(7.418363755566424e-51),\n",
      " (0, p0): np.float64(1.9243139208721862e-20)}\n"
     ]
    },
    {
     "data": {
      "image/png": "[encoded data removed]",
      "text/plain": [
       "<Figure size 700x600 with 1 Axes>"
      ]
     },
     "metadata": {},
     "output_type": "display_data"
    }
   ],
   "source": [
    "fig, ax = plot_results(\n",
    "    tn,\n",
    "    solver,\n",
    "    figsize=(7,6)\n",
    ")\n",
    "\n",
    "fig.subplots_adjust(bottom=0.4)\n",
    "fig.savefig(f'figures/porpandq_pknows={prob_knows}.png', dpi=300)"
   ]
  },
  {
   "cell_type": "markdown",
   "id": "58d1a3cf-9aa4-4faa-9b5c-f5ad787d8e58",
   "metadata": {
    "jp-MarkdownHeadingCollapsed": true
   },
   "source": [
    "### Analysis of specific likelihoods"
   ]
  },
  {
   "cell_type": "code",
   "execution_count": 36,
   "id": "c337afa2-21b4-4742-b715-d175d035dd95",
   "metadata": {},
   "outputs": [
    {
     "name": "stdout",
     "output_type": "stream",
     "text": [
      "lor(p(i0, M), land(p(i1, M), p(i0, M)))\n"
     ]
    }
   ],
   "source": [
    "s = 'lor(p(i0, M), land(p(i1, M), p(i0, M)))'\n",
    "hypotheses = [\n",
    "    'tuple_(u0, p(i0, M))',\n",
    "    'tuple_(u0, p(i1, M))',\n",
    "    'tuple_(u0, lor(p(i1, M), p(i0, M)))',\n",
    "    'tuple_(u0, land(lnot(p(i1, M)), p(i0, M)))',\n",
    "    'tuple_(u0, lor(p(i0, M), land(p(i1, M), p(i0, M)))'\n",
    "]\n",
    "\n",
    "phonform, possible_meanings, parses_values, grammar_belief = get_info(s)"
   ]
  },
  {
   "cell_type": "code",
   "execution_count": 37,
   "id": "386eab78-3ba7-4c68-a3de-b055c427f260",
   "metadata": {},
   "outputs": [],
   "source": [
    "possible_meanings, parses_values = find_phonform_possible_structures(\n",
    "    phonform=phonform,\n",
    "    grammar=grammar_phon,\n",
    "    qud=qud,\n",
    "    model=m,\n",
    "    solver=solver\n",
    ")"
   ]
  },
  {
   "cell_type": "code",
   "execution_count": 38,
   "id": "199f71df-2c36-4ebb-8bd4-59f3cdd0b750",
   "metadata": {},
   "outputs": [
    {
     "data": {
      "text/plain": [
       "[Or(And(p0, Not(p1)), And(p1, p0))]"
      ]
     },
     "execution_count": 38,
     "metadata": {},
     "output_type": "execute_result"
    }
   ],
   "source": [
    "possible_meanings"
   ]
  },
  {
   "cell_type": "code",
   "execution_count": 39,
   "id": "82d11d9f-e497-43f3-97b7-37a1a4e3e5b0",
   "metadata": {},
   "outputs": [
    {
     "name": "stdout",
     "output_type": "stream",
     "text": [
      "terms:  [p0, p1] \n",
      "\n",
      "lor(EXH(p(i0, M)), land(p(i1, M), p(i0, M)))\n",
      "\t [p1 = False, p0 = True]\n",
      "\t [p1 = True, p0 = True]\n",
      "\n",
      "\n",
      "Synonymy table:\n",
      "          0\n",
      "    0 True \n",
      "\n"
     ]
    },
    {
     "name": "stderr",
     "output_type": "stream",
     "text": [
      "100%|█████████████████████████████████████████████████████████████████████████████████████████████████████████████████████████████████████| 5/5 [00:00<00:00, 535.02it/s]"
     ]
    },
    {
     "name": "stdout",
     "output_type": "stream",
     "text": [
      "\n",
      "----------\n",
      "hyp:  lambda M: tuple_(u0, p(i0, M))\n",
      "qud:  <QUD.ProductQUD object at 0x7f6870db2f00>\n",
      "util: -0.0\n",
      "exp KL:  1.0\n",
      "prob belief:  0.006399999999999998\n",
      "total lik:  0.006399999999999998\n",
      "\n",
      "----------\n",
      "hyp:  lambda M: tuple_(u0, p(i1, M))\n",
      "qud:  <QUD.ProductQUD object at 0x7f6870db2f00>\n",
      "util: -inf\n",
      "exp KL:  0.0\n",
      "inconsistent prob:  0.0\n",
      "\n",
      "\n",
      "----------\n",
      "hyp:  lambda M: tuple_(u0, lor(p(i1, M), p(i0, M)))\n",
      "qud:  <QUD.ProductQUD object at 0x7f6870db2f00>\n",
      "util: -inf\n",
      "exp KL:  0.0\n",
      "inconsistent prob:  0.0\n",
      "\n",
      "\n",
      "----------\n",
      "hyp:  lambda M: tuple_(u0, land(lnot(p(i1, M)), p(i0, M)))\n",
      "qud:  <QUD.ProductQUD object at 0x7f6870db2f00>\n",
      "util: -0.6931471805599453\n",
      "exp KL:  0.03125\n",
      "prob belief:  0.025600000000000005\n",
      "total lik:  0.0008000000000000001\n",
      "\n",
      "----------\n",
      "hyp:  lambda M: tuple_(u0, lor(p(i0, M), land(p(i1, M), p(i0, M))))\n",
      "qud:  <QUD.ProductQUD object at 0x7f6870db2f00>\n",
      "util: -0.0\n",
      "exp KL:  1.0\n",
      "prob belief:  0.006399999999999998\n",
      "total lik:  0.006399999999999998\n"
     ]
    },
    {
     "name": "stderr",
     "output_type": "stream",
     "text": [
      "\n"
     ]
    },
    {
     "data": {
      "text/plain": [
       "{lambda M: tuple_(u0, p(i0, M)): -50.81319946436979,\n",
       " lambda M: tuple_(u0, p(i1, M)): -92.40203029796761,\n",
       " lambda M: tuple_(u0, lor(p(i1, M), p(i0, M))): -93.151998576356,\n",
       " lambda M: tuple_(u0, land(lnot(p(i1, M)), p(i0, M))): -72.69340032964689,\n",
       " lambda M: tuple_(u0, lor(p(i0, M), land(p(i1, M), p(i0, M)))): -52.31313602114654}"
      ]
     },
     "execution_count": 39,
     "metadata": {},
     "output_type": "execute_result"
    }
   ],
   "source": [
    "analyse_specific_hyps(\n",
    "    s=s,\n",
    "    hypotheses=hypotheses,\n",
    "    n_props=n_props,\n",
    "    grammar_phon=grammar_phon,\n",
    "    grammar_belief=grammar_belief,\n",
    "    qud=qud,\n",
    "    temp=5,\n",
    "    model=m,\n",
    "    solver=solver,\n",
    "    likelihood_temperature=0.1,\n",
    "    prior_temperature=6,\n",
    "    print_log=True,\n",
    ")"
   ]
  },
  {
   "cell_type": "markdown",
   "id": "5b86430f-bbf0-49a3-ac5a-68bb31f0932c",
   "metadata": {},
   "source": [
    "Problem:\n",
    "- An utterance of 'p or (p and q)' might be (among others):\n",
    "    1. A non exhaustified utterance meaning 'p', with speaker's belief 'p' (UNLIKELY)\n",
    "    2. An exhaustified utterance 'EXH(p) or (p and q)', with speaker's belief '(p and not q) or (p and q)' -> 'p' (Ignorance implicature)\n",
    "- The point of the example is that to express just belief state 'p', a speaker would use this longer expression rather than just saying 'p'."
   ]
  },
  {
   "cell_type": "markdown",
   "id": "518cffb8-4018-4d19-a851-6bd2cac0f632",
   "metadata": {
    "jp-MarkdownHeadingCollapsed": true
   },
   "source": [
    "# $\\neg (p \\lor q)$"
   ]
  },
  {
   "cell_type": "markdown",
   "id": "a88ba2b1-5d4f-4a10-bb88-b6202bc2a60d",
   "metadata": {},
   "source": [
    "## Parse $(p \\land \\neg q) \\lor (p \\land q)$ w/ belief $p$"
   ]
  },
  {
   "cell_type": "markdown",
   "id": "57000595-bd47-4928-ba47-2a408e93ad66",
   "metadata": {},
   "source": [
    "I expect all the probability to be concentrated on \"p\", with the parse \"EXH(p) or (p and q)\""
   ]
  },
  {
   "cell_type": "code",
   "execution_count": 290,
   "id": "f8209b14-2208-4ac5-aae3-a88dc60ff97d",
   "metadata": {},
   "outputs": [],
   "source": [
    "s = 'lnot(lor(p(i0, M), p(i1, M)))'\n",
    "prob_knows = 0.8"
   ]
  },
  {
   "cell_type": "code",
   "execution_count": 291,
   "id": "95b9aabb-9ac4-405e-9f19-dfd76be47bba",
   "metadata": {},
   "outputs": [
    {
     "name": "stdout",
     "output_type": "stream",
     "text": [
      "lnot(lor(p(i0, M), p(i1, M)))\n",
      "EXH(lnot(lor(p(i0, M), p(i1, M)))) has been excluded because failed hurford!\n",
      "\n",
      "possible meanings: \n",
      " [Not(Or(p0, p1)), Not(And(Or(p0, p1), Not(And(p1, p0)), Not(And(p0, p1))))] \n",
      "____\n",
      "possible parses: \n",
      " [lnot(lor(p(i0, M), p(i1, M))), lnot(EXH(lor(p(i0, M), p(i1, M))))] \n",
      "____\n",
      "terms:  [p0, p1] \n",
      "\n",
      "lnot(lor(p(i0, M), p(i1, M)))\n",
      "\t [p1 = False, p0 = False]\n",
      "\n",
      "\n",
      "lnot(EXH(lor(p(i0, M), p(i1, M))))\n",
      "\t [p1 = False, p0 = False]\n",
      "\t [p1 = True, p0 = True]\n",
      "\n",
      "\n",
      "Synonymy table:\n",
      "          0     1\n",
      "    0 True  False\n",
      "    1 False True \n",
      "\n"
     ]
    },
    {
     "name": "stderr",
     "output_type": "stream",
     "text": [
      "100%|█████████████████████████████████████████████████████████████████████████████████████████████████████████████████████████| 100000/100000.0 [05:24<00:00, 308.55it/s]\n"
     ]
    }
   ],
   "source": [
    "tn = run_boolean_simulation(s, prob_knows,n_steps=1e5)"
   ]
  },
  {
   "cell_type": "code",
   "execution_count": 292,
   "id": "613b2331-3191-4159-be32-f20524e4da95",
   "metadata": {},
   "outputs": [
    {
     "name": "stderr",
     "output_type": "stream",
     "text": [
      "100%|██████████████████████████████████████████████████████████████████████████████████████████████████████████████████████████████| 7930/7930 [00:02<00:00, 3276.28it/s]\n"
     ]
    },
    {
     "name": "stdout",
     "output_type": "stream",
     "text": [
      "{(0, Not(p0)): np.float64(1.2664935131434045e-50),\n",
      " (0, Not(p1)): np.float64(6.609010760532878e-51),\n",
      " (0, And(Implies(Not(p0), Not(p0)), Not(And(Not(p1), p0)))): np.float64(5.24020744081903e-52),\n",
      " (0, And(Implies(p0, p0), Not(And(Not(p1), p1)))): np.float64(4.979338607059159e-52),\n",
      " (0, And(Implies(p0, p0), Not(And(Not(p0), p1)))): np.float64(4.979338607059159e-52),\n",
      " (0, Not(Implies(Not(p0), Not(Or(p0, Not(p1)))))): np.float64(1.0439540371708816e-14),\n",
      " (0, p1): np.float64(6.609010760532878e-51),\n",
      " (1, Not(p1)): np.float64(6.609010760532878e-51),\n",
      " (1, Not(p0)): np.float64(6.609010760532878e-51)}\n"
     ]
    },
    {
     "data": {
      "image/png": "[encoded data removed]",
      "text/plain": [
       "<Figure size 700x600 with 1 Axes>"
      ]
     },
     "metadata": {},
     "output_type": "display_data"
    }
   ],
   "source": [
    "fig, ax = plot_results(\n",
    "    tn,\n",
    "    solver,\n",
    "    figsize=(7,6)\n",
    ")\n",
    "\n",
    "fig.subplots_adjust(bottom=0.4)\n",
    "fig.savefig(f'figures/notporq_pknows={prob_knows}.png', dpi=300)"
   ]
  }
 ],
 "metadata": {
  "kernelspec": {
   "display_name": "pLoT_RSA",
   "language": "python",
   "name": "plot_rsa"
  },
  "language_info": {
   "codemirror_mode": {
    "name": "ipython",
    "version": 3
   },
   "file_extension": ".py",
   "mimetype": "text/x-python",
   "name": "python",
   "nbconvert_exporter": "python",
   "pygments_lexer": "ipython3",
   "version": "3.12.3"
  }
 },
 "nbformat": 4,
 "nbformat_minor": 5
}
