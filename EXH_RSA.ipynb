{
 "cells": [
  {
   "cell_type": "code",
   "execution_count": 62,
   "id": "fced2a44-331b-4318-bd61-1c5c298afb2e",
   "metadata": {},
   "outputs": [
    {
     "name": "stdout",
     "output_type": "stream",
     "text": [
      "The line_profiler extension is already loaded. To reload it, use:\n",
      "  %reload_ext line_profiler\n"
     ]
    }
   ],
   "source": [
    "import z3\n",
    "from z3 import Solver, Const, Int, Real, EnumSort, sat\n",
    "import LOTlib3\n",
    "from LOTlib3.Grammar import Grammar\n",
    "from LOTlib3.Eval import primitive\n",
    "from LOTlib3.Hypotheses.LOTHypothesis import LOTHypothesis\n",
    "from LOTlib3.Hypotheses.Likelihoods.BinaryLikelihood import BinaryLikelihood\n",
    "from LOTlib3.TopN import TopN\n",
    "from LOTlib3.DataAndObjects import FunctionData\n",
    "import numpy as np\n",
    "from functools import cache\n",
    "\n",
    "import builtins\n",
    "\n",
    "from copy import copy, deepcopy\n",
    "from itertools import product\n",
    "from pprint import pprint\n",
    "\n",
    "from functools import reduce\n",
    "\n",
    "%load_ext line_profiler\n",
    "\n",
    "import functions"
   ]
  },
  {
   "cell_type": "code",
   "execution_count": 63,
   "id": "22f5f135-1a9b-4309-9268-1220d50e3ba1",
   "metadata": {},
   "outputs": [
    {
     "name": "stdout",
     "output_type": "stream",
     "text": [
      "already defined!\n"
     ]
    },
    {
     "data": {
      "text/plain": [
       "<module 'functions' from '/mnt/c/Users/faust/OneDrive - UvA/research_projects/2024_pLoTRSA/functions.py'>"
      ]
     },
     "execution_count": 63,
     "metadata": {},
     "output_type": "execute_result"
    }
   ],
   "source": [
    "from importlib import reload\n",
    "reload(functions)"
   ]
  },
  {
   "cell_type": "code",
   "execution_count": null,
   "id": "7d6f4076-398f-41fd-9fbd-bbf0f5b72754",
   "metadata": {},
   "outputs": [],
   "source": [
    "m = functions.BooleanModel()\n",
    "qud = functions.QUD([\n",
    "    z3.And(m.q, m.p), \n",
    "    z3.And(z3.Not(m.q), m.p),\n",
    "    z3.And(m.q, z3.Not(m.p)),\n",
    "    z3.And(z3.Not(m.q), z3.Not(m.p))\n",
    "])"
   ]
  },
  {
   "cell_type": "code",
   "execution_count": 178,
   "id": "1fd74912-4863-4255-81a7-f84d4a3f5352",
   "metadata": {},
   "outputs": [
    {
     "name": "stdout",
     "output_type": "stream",
     "text": [
      "ifthen(q(M), p(M))\n"
     ]
    }
   ],
   "source": [
    "grammar_phon = functions.define_grammar(False)\n",
    "grammar_utt = functions.define_grammar(True)\n",
    "\n",
    "phon = grammar_phon.generate()\n",
    "print(phon)"
   ]
  },
  {
   "cell_type": "code",
   "execution_count": 179,
   "id": "ba910f73-c6ed-4da4-af47-ebcf0ed97fd2",
   "metadata": {},
   "outputs": [],
   "source": [
    "exhaustifier = functions.Exhaustifier(\n",
    "    grammar_utt,\n",
    "    qud\n",
    ")"
   ]
  },
  {
   "cell_type": "code",
   "execution_count": 186,
   "id": "f70e08a4-f86f-48db-bfca-8524f65a0855",
   "metadata": {},
   "outputs": [],
   "source": [
    "possible_utts = functions.produce_possible_structures(phon, grammar=grammar_phon)"
   ]
  },
  {
   "cell_type": "code",
   "execution_count": 187,
   "id": "55d4680f-2a3d-4ea4-bca9-b9055e4b3316",
   "metadata": {},
   "outputs": [
    {
     "data": {
      "text/plain": [
       "[ifthen(q(M), p(M)),\n",
       " EXH(ifthen(q(M), p(M))),\n",
       " ifthen(EXH(q(M)), p(M)),\n",
       " ifthen(q(M), EXH(p(M)))]"
      ]
     },
     "execution_count": 187,
     "metadata": {},
     "output_type": "execute_result"
    }
   ],
   "source": [
    "possible_utts"
   ]
  },
  {
   "cell_type": "code",
   "execution_count": 188,
   "id": "7f2fabae-e2db-498a-b1eb-6d851b545150",
   "metadata": {},
   "outputs": [],
   "source": [
    "x = possible_utts[1]"
   ]
  },
  {
   "cell_type": "code",
   "execution_count": 191,
   "id": "21df7121-6960-47ae-bb93-3700700ada99",
   "metadata": {},
   "outputs": [],
   "source": [
    "x1 = functions.Utterance(qud, value=x)"
   ]
  },
  {
   "cell_type": "code",
   "execution_count": 193,
   "id": "f03fb185-aee7-4be4-89c2-123a1935aca1",
   "metadata": {},
   "outputs": [
    {
     "data": {
      "text/html": [
       "(q &rArr; p) &and; &not;(p &and; q) &and; &not;q &and; &not;(q &and; p) &and; &not;(q &and; q) &and; &not;(q &or; q)"
      ],
      "text/plain": [
       "And(Implies(q, p),\n",
       "    Not(And(p, q)),\n",
       "    Not(q),\n",
       "    Not(And(q, p)),\n",
       "    Not(And(q, q)),\n",
       "    Not(Or(q, q)))"
      ]
     },
     "execution_count": 193,
     "metadata": {},
     "output_type": "execute_result"
    }
   ],
   "source": [
    "x1()"
   ]
  },
  {
   "cell_type": "code",
   "execution_count": 182,
   "id": "24e8e895-646a-412a-b7de-f4a607eca373",
   "metadata": {},
   "outputs": [],
   "source": [
    "exhaustified = exhaustifier.exhaustify(\n",
    "    possible_utts[1],\n",
    "    m\n",
    ")"
   ]
  },
  {
   "cell_type": "code",
   "execution_count": 183,
   "id": "249b1bfb-83bc-4c36-8937-d92b4ea8788e",
   "metadata": {},
   "outputs": [
    {
     "data": {
      "text/html": [
       "(q &rArr; p) &and; &not;(p &and; q) &and; &not;q &and; &not;(q &and; p) &and; &not;(q &and; q) &and; &not;(q &or; q)"
      ],
      "text/plain": [
       "And(Implies(q, p),\n",
       "    Not(And(p, q)),\n",
       "    Not(q),\n",
       "    Not(And(q, p)),\n",
       "    Not(And(q, q)),\n",
       "    Not(Or(q, q)))"
      ]
     },
     "execution_count": 183,
     "metadata": {},
     "output_type": "execute_result"
    }
   ],
   "source": [
    "exhaustified"
   ]
  },
  {
   "cell_type": "code",
   "execution_count": 185,
   "id": "86a49d32-9174-477e-b2f9-8095adced20c",
   "metadata": {},
   "outputs": [
    {
     "name": "stdout",
     "output_type": "stream",
     "text": [
      "[p = False, q = False]\n",
      "[q = False, p = True]\n"
     ]
    }
   ],
   "source": [
    "s = z3.Solver()\n",
    "s.add(exhaustified)\n",
    "for i in functions.all_smt(s, [m.p, m.q]):\n",
    "    print(i)"
   ]
  },
  {
   "cell_type": "code",
   "execution_count": 176,
   "id": "4d5b9f0d-428b-4151-9afe-d82c597c43f9",
   "metadata": {},
   "outputs": [
    {
     "name": "stdout",
     "output_type": "stream",
     "text": [
      "innocently excludable: [Not(p), Not(And(q, p)), Not(And(p, q))]\n",
      "innocently excludable: []\n",
      "innocently excludable: [Not(p)]\n"
     ]
    }
   ],
   "source": [
    "hs = [ \n",
    "    z3.simplify(functions.Utterance(qud, value=utt)()) \n",
    "    for utt in possible_utts\n",
    "]"
   ]
  },
  {
   "cell_type": "code",
   "execution_count": 114,
   "id": "22b77150-8647-4d0d-86cd-b149ee58486e",
   "metadata": {},
   "outputs": [
    {
     "data": {
      "text/plain": [
       "[Or(p, q),\n",
       " And(Or(p, q), Not(And(q, p)), Not(And(p, q))),\n",
       " Or(q, And(p, Not(q))),\n",
       " Or(p, And(q, Not(p)))]"
      ]
     },
     "execution_count": 114,
     "metadata": {},
     "output_type": "execute_result"
    }
   ],
   "source": [
    "hs"
   ]
  },
  {
   "cell_type": "code",
   "execution_count": 128,
   "id": "314633cd-afce-4318-b2af-baa2fb1f18b2",
   "metadata": {},
   "outputs": [],
   "source": [
    "simplified = hs[2]"
   ]
  },
  {
   "cell_type": "code",
   "execution_count": 129,
   "id": "1e5cdc59-ab4a-4e1d-a74b-1d2e3ce1cd5e",
   "metadata": {},
   "outputs": [
    {
     "data": {
      "text/plain": [
       "'(or q (and p |Not(q)|))'"
      ]
     },
     "execution_count": 129,
     "metadata": {},
     "output_type": "execute_result"
    }
   ],
   "source": [
    "simplified.sexpr()"
   ]
  },
  {
   "cell_type": "code",
   "execution_count": 132,
   "id": "48c0c66f-cb90-4235-9365-be6d54c8f661",
   "metadata": {},
   "outputs": [
    {
     "data": {
      "text/html": [
       "[q = False, p = True, Not(q) = True]"
      ],
      "text/plain": [
       "[q = False, p = True, Not(q) = True]"
      ]
     },
     "execution_count": 132,
     "metadata": {},
     "output_type": "execute_result"
    }
   ],
   "source": [
    "s = z3.Solver()\n",
    "s.add(simplified)\n",
    "s.check()\n",
    "s.model()"
   ]
  },
  {
   "cell_type": "code",
   "execution_count": 182,
   "id": "df29296a-abc3-40f6-be19-472273b451a6",
   "metadata": {},
   "outputs": [
    {
     "name": "stdout",
     "output_type": "stream",
     "text": [
      "v:  p\n",
      "v:  |Not(And(p, q))|\n",
      "([p, Not(And(p, q))],)\n",
      "{p, Not(And(p, q))}\n"
     ]
    }
   ],
   "source": [
    "p, q = z3.Bools('p q')\n",
    "\n",
    "hard = z3.Or(q, p)\n",
    "soft = [p, z3.Not(z3.And(p, q))]\n",
    "\n",
    "solver = functions.MSSSolver(hard, soft)     \n",
    "mms = tuple(functions.enumerate_sets(solver))\n",
    "intersection = reduce(lambda x, y: x & set(y), mms, set(mms[0]))\n",
    "print(mms)\n",
    "print(intersection)"
   ]
  },
  {
   "cell_type": "code",
   "execution_count": 151,
   "id": "e8a2939a-73c0-490b-ba52-0161d6c9ba90",
   "metadata": {},
   "outputs": [
    {
     "name": "stdout",
     "output_type": "stream",
     "text": [
      "{Or(p, q), Not(And(q, p)), Not(And(p, q))}\n"
     ]
    }
   ],
   "source": [
    "print(intersection)"
   ]
  },
  {
   "cell_type": "code",
   "execution_count": 183,
   "id": "9c8fc94b-2b81-4dcc-93b5-8ba4de396fc7",
   "metadata": {},
   "outputs": [
    {
     "name": "stdout",
     "output_type": "stream",
     "text": [
      "[p = True, q = True, Not(And(p, q)) = True]\n"
     ]
    }
   ],
   "source": [
    "s = z3.Solver()\n",
    "s.add(list(intersection)[1])\n",
    "s.add(p)\n",
    "s.add(q)\n",
    "if s.check():\n",
    "    print(s.model())"
   ]
  },
  {
   "cell_type": "code",
   "execution_count": 159,
   "id": "b2464436-dc3e-4711-b915-a4e6076574bb",
   "metadata": {},
   "outputs": [],
   "source": [
    "ex = list(intersection)[1]"
   ]
  },
  {
   "cell_type": "code",
   "execution_count": 161,
   "id": "2f3f2fb6-6ce1-4844-a99b-ed9590cc2f45",
   "metadata": {},
   "outputs": [
    {
     "data": {
      "text/plain": [
       "[]"
      ]
     },
     "execution_count": 161,
     "metadata": {},
     "output_type": "execute_result"
    }
   ],
   "source": [
    "ex.children()"
   ]
  },
  {
   "cell_type": "code",
   "execution_count": 162,
   "id": "47ad2846-29cb-494c-a072-8a337ee66a93",
   "metadata": {},
   "outputs": [],
   "source": [
    "ex1 = z3.Not(z3.And(q, p))"
   ]
  },
  {
   "cell_type": "code",
   "execution_count": 163,
   "id": "95d6f19f-5d39-4448-9caf-215dceb87a1b",
   "metadata": {},
   "outputs": [
    {
     "data": {
      "text/plain": [
       "[And(q, p)]"
      ]
     },
     "execution_count": 163,
     "metadata": {},
     "output_type": "execute_result"
    }
   ],
   "source": [
    "ex1.children()"
   ]
  },
  {
   "cell_type": "code",
   "execution_count": 180,
   "id": "f8057952-1b7f-43b3-8872-96f0d21c7df7",
   "metadata": {},
   "outputs": [
    {
     "name": "stdout",
     "output_type": "stream",
     "text": [
      "[q = True, p = False]\n",
      "[p = True, q = False]\n"
     ]
    }
   ],
   "source": [
    "s = z3.Solver()\n",
    "p, q = z3.Bools('p q')\n",
    "s.add({z3.Or(p, q), z3.Not(z3.And(q, p))})\n",
    "for i in functions.all_smt(s, [p, q]):\n",
    "    print(i)"
   ]
  },
  {
   "cell_type": "code",
   "execution_count": 144,
   "id": "c1f58d5d-fc03-477e-836e-95edb758461a",
   "metadata": {},
   "outputs": [
    {
     "data": {
      "text/plain": [
       "'(not (and q p))'"
      ]
     },
     "execution_count": 144,
     "metadata": {},
     "output_type": "execute_result"
    }
   ],
   "source": [
    "z3.Not(z3.And(q, p)).sexpr()"
   ]
  },
  {
   "cell_type": "code",
   "execution_count": 148,
   "id": "17daabda-1628-4598-acc6-0ab2430d8ff0",
   "metadata": {},
   "outputs": [
    {
     "name": "stdout",
     "output_type": "stream",
     "text": [
      "['|Or(p, q)|', '|Not(And(q, p))|', '|Not(And(p, q))|']\n",
      "['(not (and p q))', '(not (and q p))', '(or p q)']\n"
     ]
    }
   ],
   "source": [
    "print([x.sexpr() for x in intersection])\n",
    "print([x.sexpr() for x in {z3.Or(p, q), z3.Not(z3.And(q, p)), z3.Not(z3.And(p, q))}])"
   ]
  },
  {
   "cell_type": "code",
   "execution_count": 181,
   "id": "878ddb2d-4d31-40a8-876d-20560bbdcf0d",
   "metadata": {},
   "outputs": [
    {
     "name": "stdout",
     "output_type": "stream",
     "text": [
      "{Not(And(p, q))} \n",
      "\n",
      "[Not(And(p, q)) = True]\n",
      "[p = True, Not(And(p, q)) = True]\n",
      "[p = True, q = True, Not(And(p, q)) = True]\n",
      "[q = True, p = False, Not(And(p, q)) = True]\n"
     ]
    }
   ],
   "source": [
    "print(intersection, '\\n')\n",
    "s = z3.Solver()\n",
    "s.add(intersection)\n",
    "for i in functions.all_smt(s, [p, q]):\n",
    "    print(i)"
   ]
  },
  {
   "cell_type": "markdown",
   "id": "cbeb0927-54e2-483b-b77c-e07a7e25f88d",
   "metadata": {
    "jp-MarkdownHeadingCollapsed": true
   },
   "source": [
    "# Plot"
   ]
  },
  {
   "cell_type": "code",
   "execution_count": 181,
   "id": "28f1c435-9045-493f-aae1-229376394824",
   "metadata": {},
   "outputs": [],
   "source": [
    "def plot_hasse_diagram(expressions):\n",
    "    \n",
    "    # Define propositional variables\n",
    "    p, q = z3.Bools('p q')\n",
    "    variables = [p, q]\n",
    "\n",
    "    # Generate all possible truth assignments for the variables\n",
    "    truth_assignments = [\n",
    "        {p: True, q: True},\n",
    "        {p: True, q: False},\n",
    "        {p: False, q: True},\n",
    "        {p: False, q: False}\n",
    "    ]\n",
    "\n",
    "    # Define positions for a fixed layout (False, False at the bottom)\n",
    "    positions = {\n",
    "        0: (1, 2),  # True, True\n",
    "        1: (0, 1),  # True, False\n",
    "        2: (2, 1),  # False, True\n",
    "        3: (1, 0)   # False, False\n",
    "    }\n",
    "\n",
    "    # Plotting each expression's Hasse diagram\n",
    "    for idx, expr in enumerate(expressions):\n",
    "        # Evaluate expression for each truth assignment\n",
    "        evaluations = []\n",
    "        for assignment in truth_assignments:\n",
    "            s = z3.Solver()\n",
    "            for var, val in assignment.items():\n",
    "                s.add(var == val)\n",
    "            s.add(expr)\n",
    "            print(assignment, expr)\n",
    "            if s.check() == z3.sat:\n",
    "                print(s.model())\n",
    "            if s.check() == z3.sat:\n",
    "                evaluations.append(True)\n",
    "            else:\n",
    "                evaluations.append(False)\n",
    "\n",
    "        # Create a graph for the Hasse diagram\n",
    "        G = nx.DiGraph()\n",
    "\n",
    "        # Add nodes with color based on evaluation\n",
    "        for i, eval in enumerate(evaluations):\n",
    "            color = 'green' if eval else 'red'\n",
    "            G.add_node(i, label=str(truth_assignments[i]), color=color)\n",
    "\n",
    "        # Add edges based on logical implication (order must be maintained)\n",
    "        G.add_edges_from([(1, 0), (2, 0), (3, 1), (3, 2)])\n",
    "\n",
    "        # Draw the graph\n",
    "        colors = nx.get_node_attributes(G, 'color').values()\n",
    "        labels = nx.get_node_attributes(G, 'label')\n",
    "        nx.draw(G, pos=positions, labels=labels, node_color=colors, with_labels=True)\n",
    "        plt.title(f\"Expression {idx+1}: {expr}\")\n",
    "        plt.show()"
   ]
  },
  {
   "cell_type": "code",
   "execution_count": 199,
   "id": "399edb86-f0fd-4a00-9af6-9da5127cd82b",
   "metadata": {},
   "outputs": [
    {
     "data": {
      "text/plain": [
       "'(and (or p q) |Not(And(q, p))| |Not(And(p, q))|)'"
      ]
     },
     "execution_count": 199,
     "metadata": {},
     "output_type": "execute_result"
    }
   ],
   "source": [
    "hs[1].sexpr()"
   ]
  },
  {
   "cell_type": "code",
   "execution_count": 193,
   "id": "bea1d50f-7c17-430f-bec6-df9c020f9e65",
   "metadata": {},
   "outputs": [
    {
     "name": "stdout",
     "output_type": "stream",
     "text": [
      "[]\n",
      "[p = True, Not(And(q, p)) = True, Not(And(p, q)) = True]\n"
     ]
    }
   ],
   "source": [
    "s = z3.Solver()\n",
    "for i in functions.all_smt(s, [hs[1]]):\n",
    "    print(i)"
   ]
  },
  {
   "cell_type": "code",
   "execution_count": 200,
   "id": "adc211c4-c716-4742-99e6-451dcf767e1b",
   "metadata": {},
   "outputs": [
    {
     "name": "stdout",
     "output_type": "stream",
     "text": [
      "[p = True, q = False]\n",
      "[p = False, q = True]\n"
     ]
    }
   ],
   "source": [
    "p, q = Bools('p q')\n",
    "s = Solver()\n",
    "expr = And(Or(p, q), Not(And(q, p)), Not(And(p, q)))\n",
    "s.add(expr)\n",
    "\n",
    "for m in functions.all_smt(s, [p, q]):\n",
    "    print(m)"
   ]
  },
  {
   "cell_type": "code",
   "execution_count": 201,
   "id": "0331d5dc-d532-4156-b67b-fbd8217ed431",
   "metadata": {},
   "outputs": [
    {
     "data": {
      "text/plain": [
       "'(and (or p q) (not (and q p)) (not (and p q)))'"
      ]
     },
     "execution_count": 201,
     "metadata": {},
     "output_type": "execute_result"
    }
   ],
   "source": [
    "expr.sexpr()"
   ]
  },
  {
   "cell_type": "code",
   "execution_count": 182,
   "id": "3697bdc6-2935-4a75-bc8c-94fc7617d00e",
   "metadata": {},
   "outputs": [
    {
     "name": "stdout",
     "output_type": "stream",
     "text": [
      "{p: True, q: True} Or(p, q)\n",
      "[p = True, q = True]\n",
      "{p: True, q: False} Or(p, q)\n",
      "[p = True, q = False]\n",
      "{p: False, q: True} Or(p, q)\n",
      "[p = False, q = True]\n",
      "{p: False, q: False} Or(p, q)\n"
     ]
    },
    {
     "data": {
      "image/png": "[encoded data removed]",
      "text/plain": [
       "<Figure size 640x480 with 1 Axes>"
      ]
     },
     "metadata": {},
     "output_type": "display_data"
    },
    {
     "name": "stdout",
     "output_type": "stream",
     "text": [
      "{p: True, q: True} And(Or(p, q), Not(And(q, p)), Not(And(p, q)))\n",
      "[p = True,\n",
      " q = True,\n",
      " Not(And(q, p)) = True,\n",
      " Not(And(p, q)) = True]\n",
      "{p: True, q: False} And(Or(p, q), Not(And(q, p)), Not(And(p, q)))\n",
      "[p = True,\n",
      " q = False,\n",
      " Not(And(q, p)) = True,\n",
      " Not(And(p, q)) = True]\n",
      "{p: False, q: True} And(Or(p, q), Not(And(q, p)), Not(And(p, q)))\n",
      "[p = False,\n",
      " q = True,\n",
      " Not(And(q, p)) = True,\n",
      " Not(And(p, q)) = True]\n",
      "{p: False, q: False} And(Or(p, q), Not(And(q, p)), Not(And(p, q)))\n"
     ]
    },
    {
     "data": {
      "image/png": "[encoded data removed]",
      "text/plain": [
       "<Figure size 640x480 with 1 Axes>"
      ]
     },
     "metadata": {},
     "output_type": "display_data"
    },
    {
     "name": "stdout",
     "output_type": "stream",
     "text": [
      "{p: True, q: True} Or(p, And(q, Not(p)))\n",
      "[p = True, q = True, Not(p) = True]\n",
      "{p: True, q: False} Or(p, And(q, Not(p)))\n",
      "[p = True, q = False, Not(p) = False]\n",
      "{p: False, q: True} Or(p, And(q, Not(p)))\n",
      "[p = False, q = True, Not(p) = True]\n",
      "{p: False, q: False} Or(p, And(q, Not(p)))\n"
     ]
    },
    {
     "data": {
      "image/png": "[encoded data removed]",
      "text/plain": [
       "<Figure size 640x480 with 1 Axes>"
      ]
     },
     "metadata": {},
     "output_type": "display_data"
    },
    {
     "name": "stdout",
     "output_type": "stream",
     "text": [
      "{p: True, q: True} Or(q, And(p, Not(q)))\n",
      "[p = True, q = True, Not(q) = True]\n",
      "{p: True, q: False} Or(q, And(p, Not(q)))\n",
      "[p = True, q = False, Not(q) = True]\n",
      "{p: False, q: True} Or(q, And(p, Not(q)))\n",
      "[p = False, q = True, Not(q) = False]\n",
      "{p: False, q: False} Or(q, And(p, Not(q)))\n"
     ]
    },
    {
     "data": {
      "image/png": "[encoded data removed]",
      "text/plain": [
       "<Figure size 640x480 with 1 Axes>"
      ]
     },
     "metadata": {},
     "output_type": "display_data"
    }
   ],
   "source": [
    "plot_hasse_diagram(hs)"
   ]
  },
  {
   "cell_type": "markdown",
   "id": "1d95ab55-dd96-4ca9-a2a5-5a4a8c269074",
   "metadata": {},
   "source": [
    "# RSA"
   ]
  },
  {
   "cell_type": "markdown",
   "id": "978b531d-d7ce-4564-bebd-cd4fa778a574",
   "metadata": {},
   "source": [
    "The listener computes a joint distribution over QUD-relevant belief states $o$ and possible utterances $u$ given the phonological form $\\phi$ (a (partial) answer to the QUD can in principle be inferred from the utterance). We assume a silent EXH operator that does not show in $\\phi$ but might be part of $u$. Call $\\forall_{EXH}(\\phi)$ the set of all utterances compatible with $\\phi$.\n",
    "\\begin{align}\n",
    "P_{L1}(o \\mid \\phi)\n",
    "&= \\sum_{u \\in UTT} P_{L1}(o, u \\mid \\phi) \\\\\n",
    "&= \\sum_{u \\in UTT} P_{L1}(u \\mid \\phi)P_{L1}(o \\mid u, \\phi) \\\\\n",
    "&= \\frac{1}{|\\forall_{EXH}(\\phi)|} \\sum_{u \\in \\forall_{EXH}(\\phi)} P_{L1}(o \\mid u, \\phi) & P_{L1}(u \\mid \\phi) \\text{ has uniform prob among compatible \\& 0 otherwise} \\\\\n",
    "&= \\frac{1}{|\\forall_{EXH}(\\phi)|} \\sum_{u \\in \\forall_{EXH}(\\phi)} P_{L1}(o \\mid u ) & \\text{since $o$ is independent of $\\phi$ given $u$} \n",
    "\\end{align}\n",
    "\n",
    "At this point we need a way of computing $P_{L1}(o \\mid u)$: how probable for the listener is meaning $o$ given utterance $u$? There are many solutions, but here are two:\n",
    "1. Assume an $S_0$ that samples an utterance uniformly from utterances compatible with the meaning.\n",
    "2. Assume that the speaker tends to produce an utterance that is more relevant given the QUD. The possible utterances here are the possible parses of the phonological form (given by the various ways of inserting EXH):\n",
    "\n",
    "\\begin{align}\n",
    "&= \\frac{1}{|\\forall_{EXH}(\\phi)|} \\sum_{u \\in \\forall_{EXH}(\\phi)} P_{S1}( [\\![ u ]\\!] \\mid o) P_{L1}(o) K & \\text{Bayes' theorem.}\n",
    "\\end{align}\n",
    "\n",
    "Some points:\n",
    "- Sample $o$ w/ LOTlib, check with z3 that $o$ is consistent with $u$ (else return -inf), and if so calculate the actual quantities.\n",
    "- This assumes DAG $o \\rightarrow u \\rightarrow \\phi$, but in future the communicative intention $i$ could be added ($o \\rightarrow i \\rightarrow u \\rightarrow \\phi$), which can depend on the speaker's goals independently of the QUD."
   ]
  },
  {
   "cell_type": "markdown",
   "id": "19711202-15eb-40dd-8f82-2b36200f5d25",
   "metadata": {},
   "source": [
    "At this point we have three components to unpack:\n",
    "- $\\forall_{EXH}(\\phi)$\n",
    "  - The set of utterances compatible with the given phonological form.\n",
    "- $P_{S1}([\\![ u ]\\!] \\mid o) \\propto \\texttt{softmax}_\\lambda \\text{KL}\\left( P_{S1}( A \\mid o) ||  P_{L0}( A | u ) \\right)$\n",
    "    - The (normalized) probability that the speaker will choose an utterance given an observation.\n",
    "    - The speaker's goal is to answer the QUD as well as possible, and this is of course a function of the meaning of the utterance.\n",
    "    - $A$ is the random variable \"Answer to the QUD\"\n",
    "    - Calculating $P_{S1}( A \\mid o)$:\n",
    "        - The probability of each answer is proportional to the number of models compatible with $o$ that belong to that answer.\n",
    "    - Calculating $P_{L0}( A | u )) $:\n",
    "        - In theory, the normalization constant of $P_{L0}(A \\mid u)$ is a sum over observations\n",
    "        - However, since there can be infinitely many possible observations in practice I assume that the literal listener uses an approximation:\n",
    "        - First, we approximate for each answer $a \\in A$ how many models are compatible with $a$. For every answer $a$ sample observations that the meaning is compatible with, up to a MAX, e.g., 10. Call this number $\\#_a$. This defines a distribution over answers to the QUD given $o$. Since the QUD partitions the possibilities, a singleton $o$ must provide a single answer, but an $o$ with multiple possible worlds (representing uncertainty) could be compatible with multiple answers.\n",
    "            - If the QUD is yes/no, we recover a discrete approximation of usual RSA $L0$.\n",
    "            - This means that the speaker only keeps track of a few observations for each answers to the QUD.\n",
    "        - Compute a discrete approximation to KL divergence.\n",
    "        - NOTE: Not adding a cost for conceptual complexity yet, but it would relate to the discussion of conceptual complexity by Buccola.\n",
    "        - The consequence of this term is that listeners will tend to guess an observations fits closely to the meaning. So for instance meaning \"a\" (compatible with $b$ and $\\neg b$)\n",
    "- $P_{L1}(o)$\n",
    "    - The probability of the observation. This is just the prior as induced by the pLoT - dealt with by LOTlib3 (but need to redefine the `prior` function otherwise it'll also include complexity of $m$!)\n",
    " \n",
    "Various to note:\n",
    "- I assume there's an underlying QUD. The agents have some prior distribution over the answers to the QUD, which depends on their world model.\n",
    "    - The QUD is modelled as a list of z3 objects, one for each answer to the QUD. For instance the QUD \"Who is P?\" is represented as: `[ And([P(a),P(b)]), P(a), P(b) ]`\n",
    "    - This is one way to model a partition of the possible worlds."
   ]
  },
  {
   "cell_type": "markdown",
   "id": "93b82fd0-3df6-4cf9-9ce3-f5860461b5ca",
   "metadata": {},
   "source": [
    "Examples to explain:\n",
    "- \"Not _p_\" -> \"p and not q\"\n",
    "- \"John talked to Mary or Sue\" -> not both (Fox and Spector 2019)\n",
    "- \"Some boys came\" -> not all (Fox and Spector 2019)\n",
    "- \"John didn't do the reading OR the homework, he did both\" -> not a contradiction! (Fox and Spector 2019)\n",
    "- \"John talked to Mary, or to both Mary and Sue\" -> not equivalent to just \"Mary\" (Trinh 2019)\n",
    "- Contextual scales:\n",
    "    - a. A: Do you speak Portuguese? B: My husband's brother does. implicature: B/her husband does not speak Portuguese.\n",
    "    - (https://www.tandfonline.com/doi/full/10.1080/0163853X.2017.1316038)\n",
    "- Different focuses:\n",
    "    - a. A: How many children does Nigel have? B: Nigel has fourteen$_F$ children.\n",
    "    - b. A: Who has fourteen children? B: Nigel$_F$ has fourteen children.\n",
    "    - (https://www.tandfonline.com/doi/full/10.1080/0163853X.2017.1316038)"
   ]
  },
  {
   "cell_type": "code",
   "execution_count": null,
   "id": "a22d6bbb-f0b9-4975-a251-00728ed47d9d",
   "metadata": {},
   "outputs": [],
   "source": [
    "def PS1_u_m(u, m):\n",
    "    # probability of an utterance given a meaning\n",
    "    "
   ]
  },
  {
   "cell_type": "code",
   "execution_count": null,
   "id": "bc70b149-79e0-42bf-97c6-6ac060b0fecf",
   "metadata": {},
   "outputs": [],
   "source": []
  },
  {
   "cell_type": "code",
   "execution_count": null,
   "id": "7ec7db56-96ad-4cc1-82c2-d8ea6244ec9f",
   "metadata": {},
   "outputs": [],
   "source": []
  }
 ],
 "metadata": {
  "kernelspec": {
   "display_name": "pLoT_RSA",
   "language": "python",
   "name": "plot_rsa"
  },
  "language_info": {
   "codemirror_mode": {
    "name": "ipython",
    "version": 3
   },
   "file_extension": ".py",
   "mimetype": "text/x-python",
   "name": "python",
   "nbconvert_exporter": "python",
   "pygments_lexer": "ipython3",
   "version": "3.12.3"
  }
 },
 "nbformat": 4,
 "nbformat_minor": 5
}
